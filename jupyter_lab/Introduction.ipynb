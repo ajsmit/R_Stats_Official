{
 "cells": [
  {
   "cell_type": "markdown",
   "id": "23212c5e-dc5c-4b07-a6b5-b1b9d0006b78",
   "metadata": {},
   "source": [
    "**Author:** Prof. AJ Smit\n",
    "\n",
    "Department of Biodiversity and Conservation Biology\n",
    "\n",
    "University of the Western Cape"
   ]
  },
  {
   "cell_type": "markdown",
   "id": "e09658f0-5bd4-4cf9-9372-bc02dd16f23e",
   "metadata": {},
   "source": [
    "# About the course\n",
    "\n",
    "<div class=\"alert alert-block alert-info\">\n",
    "\"A scientist worthy of a lab coat should be able to make original discoveries while wearing a clown suit, or give a lecture in a high squeaky voice from inhaling helium. It is written nowhere in the math of probability theory that one may have no fun.\" --- Eliezer Yudkowsky\n",
    "</div>\n",
    "\n",
    "<div class=\"alert alert-block alert-info\">\n",
    "\"Prediction is very difficult, especially about the future.\" --- Niels Bohr\n",
    "</div>"
   ]
  },
  {
   "cell_type": "markdown",
   "id": "02d7b094-0869-4eda-b8f5-10c58ff67b3e",
   "metadata": {},
   "source": [
    "## Venue, date and time\n",
    "\n",
    "Basic Statistics is the second half of the BSc (Hons) Biostats core module, and will run in Semester 1 of 2022. This workshop will take place from Monday 28 March to Friday 1 April from **8:30--15:30**. There will be an assignment due about three weeks after the end of this module, as well as a test; these two marks will contribute 50% of the marks for the Biostats module. More on the assignment and test later.\n",
    "\n",
    "## Course outline\n",
    "\n",
    "1.  About (this chapter)\n",
    "2.  Types of data\n",
    "3.  Descriptive statistics: Measures of location and dispersion\n",
    "4.  Representing data graphically\n",
    "5.  Distributions\n",
    "6.  One-sample and two-sample tests\n",
    "7.  Multi-sample (\\>2) tests\n",
    "8.  Linear regression\n",
    "9.  Correlation\n",
    "10. Confidence intervals\n",
    "11. Transforming data\n",
    "12. Generalised linear model (GLM)\n",
    "13. Chi square tests\n",
    "\n",
    "The course content can broadly be classified into two parts: *Descriptive Statistics* and *Inferential Statistics*.\n",
    "\n",
    "Descriptive statistics and their associated statistical and graphical data summaries will be covered in Chapters 3 and 4. In Chapter 5 we will introduce the concepts of data distributions, knowledge of which is required to select the most appropriate inferential statistical methods.\n",
    "\n",
    "Chapters 6-15 are about inferential statistics. Inferential tests allow us to evaluate hypotheses within a framework of probabalistic theory, which helps us infer the nature of a 'population' based on a smaller represenative set of samples. In partiucular, we can infer whether the property under scrutiny (arrived at by means of a designed experiment or a directed sampling programme) occured as a result of deterministic influences, or whether it is as a result of chance.\n",
    "\n",
    "## About this Workshop\n",
    "\n",
    "The aim of this workshop is to guide you through the outline given above. The workshop focuses broadly (and unequally) on three groups of concepts:\n",
    "\n",
    "-   Data and distributions\n",
    "-   Descriptive statistics and graphics\n",
    "-   Inferential statistics\n",
    "\n",
    "Data and distributions are unsurprisingly about the data itself. Here we will talk about the various kinds of data that we will encounter as biologists. In the second part we will describe the data using a combination of numerical and graphical summaries. Third, all of this culminates in trying to infer from a small subset (a sample) of subjects if the characteristics under scrutiny also hold true for the entire population. We may also ask questions about probailities, i.e. measuring the likelihood that an event will occur, or that an experiment has an outcome that is different from a situation where the influential factor(s) has no effect, or that some observation or outcome is non-random.\n",
    "\n",
    "## This is biology: why more R coding?\n",
    "\n",
    "Please refer to the [Intro R Workshop: Data Manipulation, Analysis and Graphing](https://robwschlegel.github.io/Intro_R_Workshop/) for why we feel strongly that you use R [@R2017] for the analyses that we will perform here. All of the reasons provided there are valid here too, but one reason perhaps more so than others---R and RStudio promote the principles of *reproducible research*, and in fact make it very easy to implement. We will focus on some of these principles throughout the workshop, and the assignments will require that you submit a fully functional working script, complete with all the notes, memos, examples, data, executable code, and output that will result from completing the course material.\n",
    "\n",
    "What other options are there for analysing the kinds of data that we will encounter in biological research? Software packages like the ones you may be familiar with, such as Statistica and SPSS, are often used to perform many of these analyses. They are rather limited with regards to the full scope of modern statistical methods in use by biologists today, but many people still use these kinds of software as they provide the basic kinds analyses that still form the staple of the biological and medical sciences. For the many reasons provided above, we prefer to use R as the *engine* within which to do our biological data analysis. R is used by academic statisticians the world over, and it is therefore an excellent choice for our purpose here.\n",
    "\n",
    "## Installing R and RStudio\n",
    "\n",
    "We assume that you already have R installed on your computer, as all of you will have already completed the the Intro R Workshop. If you need a refresher, please refer to [Intro R Workshop: Data Manipulation, Analysis and Graphing](https://ajsmit.github.io/Intro_R_Official/) for the installation instructions.\n",
    "\n",
    "## Resources\n",
    "\n",
    "-   New users should introduce themselves to the [R ecosystem](fg2re.sellorm.com)\n",
    "-   A fancy interactive website that covers a wide range of [basic statistics](http://students.brown.edu/seeing-theory/)\n",
    "-   An easy to follow walkthrough for a [statistical analysis](http://www.sthda.com/english/wiki/unpaired-two-samples-t-test-in-r)\n",
    "-   Learn more about [tidy statistical inference](https://infer.netlify.com)\n",
    "-   A thorough journey through the philosophy of [data visualisation](http://www.serialmentor.com/dataviz/)\n",
    "-   [Google](www.google.com)\n",
    "-   [Stack Overflow](www.stackoverflow.com)\n",
    "\n",
    "## Style and code conventions\n",
    "\n",
    "Early on, develop the habit of unambiguous and consistent style and formatting when writing your code, or anything else for that matter. Pay attention to detail and be pedantic. This will benefit your scientific writing in general. Although many R commands rely on precisely formatted statements (code blocks), style can nevertheless to *some extent* have a personal flavour to it. The key is *consistency*. In this book we use certain conventions to improve readability. We also use a consistent set of conventions to refer to code, and in particular to typed commands and package names.\n",
    "\n",
    "-   Package names are shown in a bold font over a grey box, *e.g.* **`tidyr`**.\n",
    "-   Functions are shown in normal font followed by parentheses and also over a grey box , *e.g.* `plot()`, or `summary()`.\n",
    "-   Other R objects, such as data, function arguments or variable names are again in normal font over a grey box, but without parentheses, *e.g.* `x` and `apples`.\n",
    "-   Sometimes we might directly specify the package that contains the function by using two colons, *e.g.* `dplyr::filter()`.\n",
    "-   Commands entered onto the R command line (console) and the output that is returned will be shown in a code block, which is a light grey background with code font. The commands entered start at the beginning of a line and the output it produces is preceded by `R>`, like so:"
   ]
  },
  {
   "cell_type": "code",
   "execution_count": 1,
   "id": "65462516-c0b5-4d27-8572-54e4517fc1d7",
   "metadata": {},
   "outputs": [
    {
     "data": {
      "text/html": [
       "<style>\n",
       ".list-inline {list-style: none; margin:0; padding: 0}\n",
       ".list-inline>li {display: inline-block}\n",
       ".list-inline>li:not(:last-child)::after {content: \"\\00b7\"; padding: 0 .5ex}\n",
       "</style>\n",
       "<ol class=list-inline><li>9.79304360083117</li><li>26.1866106540825</li><li>-4.61674798483458</li><li>26.3661819543488</li><li>-28.8193678648517</li><li>9.85915031401355</li><li>-16.9804083671521</li><li>-10.4327543931493</li><li>-23.2991308479948</li><li>-0.54642190229567</li></ol>\n"
      ],
      "text/latex": [
       "\\begin{enumerate*}\n",
       "\\item 9.79304360083117\n",
       "\\item 26.1866106540825\n",
       "\\item -4.61674798483458\n",
       "\\item 26.3661819543488\n",
       "\\item -28.8193678648517\n",
       "\\item 9.85915031401355\n",
       "\\item -16.9804083671521\n",
       "\\item -10.4327543931493\n",
       "\\item -23.2991308479948\n",
       "\\item -0.54642190229567\n",
       "\\end{enumerate*}\n"
      ],
      "text/markdown": [
       "1. 9.79304360083117\n",
       "2. 26.1866106540825\n",
       "3. -4.61674798483458\n",
       "4. 26.3661819543488\n",
       "5. -28.8193678648517\n",
       "6. 9.85915031401355\n",
       "7. -16.9804083671521\n",
       "8. -10.4327543931493\n",
       "9. -23.2991308479948\n",
       "10. -0.54642190229567\n",
       "\n",
       "\n"
      ],
      "text/plain": [
       " [1]   9.7930436  26.1866107  -4.6167480  26.3661820 -28.8193679   9.8591503\n",
       " [7] -16.9804084 -10.4327544 -23.2991308  -0.5464219"
      ]
     },
     "metadata": {},
     "output_type": "display_data"
    }
   ],
   "source": [
    "set.seed(666)\n",
    "rnorm(n = 10, mean = 0, sd = 13)"
   ]
  },
  {
   "cell_type": "markdown",
   "id": "ce29493b-dcfe-4947-9b2f-0012e9df422b",
   "metadata": {},
   "source": [
    "Consult these resources for more about R code style :\n",
    "\n",
    "-   [Google's R style guide](https://google.github.io/styleguide/Rguide.xml)\n",
    "-   [The tidyverse style guide](http://style.tidyverse.org)\n",
    "-   [Hadley Wickham's advanced R style guide](http://adv-r.had.co.nz/Style.html)\n",
    "\n",
    "We may also insert maths expressions within the text, like this $f(k) = {n \\choose k} p^{k} (1-p)^{n-k}$ or on their own, like this: $$f(k) = {n \\choose k} p^{k} (1-p)^{n-k}$$\n",
    "\n",
    "## Assessment and teaching philosophy\n",
    "\n",
    "Grades will be based on the aggregate performance across two group projects; the first group project was completed after the Intro R Workshop. The project for this workshop will represent 35% of the total grade for BioStatistics. The remaining 15% will come from daily participation. This will be assessed by the R scripts produced in class and follows these five criteria:\n",
    "\n",
    "-   The script has been uploaded to GitHub\n",
    "-   The script covers the content of the day\n",
    "-   The code runs without errors\n",
    "-   Proper style conventions have been observed\n",
    "-   Liberally commented\n",
    "\n",
    "**BONUS POINTS**\n",
    "\n",
    "-   Additional analysis not performed in class\n",
    "-   Additional figure not created in class\n",
    "\n",
    "In cases where students are borderline between lower and higher grades, a high level of participation in the class discussions and class in general will win the day for the higher grade.\n",
    "\n",
    "The daily scripts are essential to understanding the material. Although they comprise only 15% of the final grade, performance on the projects is usually correlated with effort on the daily assignments.\n",
    "\n",
    "Whereas plagiarism will not be tolerated, students ARE encouraged to work together to learn from one another and solve problems in a collaborative and collegial way.\n",
    "\n",
    "## About this document\n",
    "\n",
    "This document was created using Jupyter Lab within which I run a R kernel. The entire source code to reproduce this book is available from my [GitHub repo](https://github.com/ajsmit/R_Stats_Official).\n",
    "\n",
    "You will notice that this repository uses [GitHub](https://github.com), and you are advised to set up your own repository for R scripts and all your data. We will touch on GitHub and the principles of reproducible research later, and GitHub forms a core ingredient of such a workflow."
   ]
  }
 ],
 "metadata": {
  "kernelspec": {
   "display_name": "R",
   "language": "R",
   "name": "ir"
  },
  "language_info": {
   "codemirror_mode": "r",
   "file_extension": ".r",
   "mimetype": "text/x-r-source",
   "name": "R",
   "pygments_lexer": "r",
   "version": "4.1.3"
  }
 },
 "nbformat": 4,
 "nbformat_minor": 5
}
