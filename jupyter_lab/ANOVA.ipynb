{
 "cells": [
  {
   "cell_type": "markdown",
   "id": "a33ec153-c4df-46c2-aae1-48326f748088",
   "metadata": {},
   "source": [
    "**Author:** Prof. AJ Smit\n",
    "\n",
    "Department of Biodiversity and Conservation Biology\n",
    "\n",
    "University of the Western Cape\n",
    "\n",
    "<div class=\"alert alert-block alert-info\">\n",
    "\"He uses statistics as a drunken man uses lamp posts—for support rather than for illumination.\" --- Marissa Mayer\n",
    "</div>\n",
    "\n",
    "# ANOVA\n",
    "\n",
    "Whole big books have been written about Analysis of Variance (ANOVA). Although there are many ANOVA experimental designs available, biologists are taught to pay special attention to the design of experiments, and generally make sure that the experiments are fully factorial (in the case of two-way or higher ANOVAs) and balanced. For this reason we will focus in this Introductory Statistics course on one-way and factorial ANOVAs only.\n",
    "\n",
    "As *t*-tests, ANOVAs require that some assumptions are met:\n",
    "\n",
    "-   Normally distributed data\n",
    "-   Homogeneity of variances\n",
    "-   Independence of data\n",
    "-   In our case, we will encourage also that the data are balanced\n",
    "\n",
    "If some of the above assumptions are violated, then your course of action is either to transform the data (if non-normal) or to use a generalised linear model (also when non-normal), or to use a linear mixed model (when the assumption on non-independence cannot be guaranteed). We will get to some of these methods in later chapters. Linked to the above, ANOVAs are also sensitive to the presence of outliers (see our earlier discussion about the mean and how it differs from the median), so we need to ensure that outliers are not present (they can be removed, and there are many ways of finding them and eliminating them). If outliers are an important feature of the data, then a non-parametric test can be used, or some other test that works well with extreme values can be applied.\n",
    "\n",
    "Rather than talking about *t*-tests and ANOVAs as separate things, let us acknowledge that they are similar ways of asking the same question. That question being, are the means of these two or more things we want to compare different, or the same? At this stage it is important to note that the independent variable is categorical (i.e. a factor denoting two or more different treatments or sampling conditions) and that the dependent variable is continuous. You may perhaps be more familiar with this question when it is presented as a set of hypotheses.\n",
    "\n",
    "> H0: Group A is not different from group B.\n",
    ">\n",
    "> H1: Group A is different from group B.\n",
    "\n",
    "This is a scientific question in the simplest sense. Often, for basic inquiries such as that posed above, we need to see if one group differs significantly from another. The way in which we accomplish this is by looking at the mean and variance within a set of data compared against another similar set. In order to do so appropriately however we need to first assume that both sets of data are normally distributed, and that the variance found within each set of data is similar. These are the two primary assumptions we learned about in Chapter 6, and if they are met then we may use parametric tests. We will learn in Chapter 9 what we can do if these assumptions are not meant and we cannot adequately transform our data, meaning we will need to use non-parametric tests.\n",
    "\n",
    "## Remember the *t*-test\n",
    "\n",
    "As you know, a *t*-test is used when we want to compare two different sample sets against one another. This is also known as a two-factor or two level test. When one wants to compare multiple (more than two) sample sets against one another an ANOVA is required (see below). Remember how to perform a *t*-test in R: we will revisit this test using the `chicks` data, but only for Diets 1 and 2 from day 21."
   ]
  },
  {
   "cell_type": "code",
   "execution_count": 1,
   "id": "09d4ebde-811c-4860-a858-c07bc8abfc3d",
   "metadata": {},
   "outputs": [],
   "source": [
    "# Load all required packages\n",
    "options(warn = -1) # switch of warning messages globally\n",
    "options(tidyverse.quiet = TRUE)\n",
    "library(tidyverse)\n",
    "library(tidyverse)\n",
    "library(ggpubr)\n",
    "\n",
    "# First grab the data\n",
    "chicks <- as_tibble(ChickWeight)\n",
    "\n",
    "# Then subset out only the sample sets to be compared\n",
    "chicks_sub <- chicks %>% \n",
    "  filter(Diet %in% c(1, 2), Time == 21)"
   ]
  },
  {
   "cell_type": "markdown",
   "id": "a24087a1-925e-43ae-9893-44e5d95d49c6",
   "metadata": {},
   "source": [
    "Once we have filtered our data we may now perform the *t*-test. Traditionally this would be performed with `t.test()`, but recent developments in R have made any testing for the comparison of means more convenient by wrapping everything up into the one single function `compare_means()`. We may use only this one single function for many of the tests we will perform in this chapter as well as Chapter 9. To use `compare_means()` for a *t*-test we must simply specify this in the `method` argument, as seen below:"
   ]
  },
  {
   "cell_type": "code",
   "execution_count": 2,
   "id": "19107209-c23d-4185-b515-5e523a0969d1",
   "metadata": {},
   "outputs": [
    {
     "data": {
      "text/html": [
       "<table class=\"dataframe\">\n",
       "<caption>A tibble: 1 × 8</caption>\n",
       "<thead>\n",
       "\t<tr><th scope=col>.y.</th><th scope=col>group1</th><th scope=col>group2</th><th scope=col>p</th><th scope=col>p.adj</th><th scope=col>p.format</th><th scope=col>p.signif</th><th scope=col>method</th></tr>\n",
       "\t<tr><th scope=col>&lt;chr&gt;</th><th scope=col>&lt;chr&gt;</th><th scope=col>&lt;chr&gt;</th><th scope=col>&lt;dbl&gt;</th><th scope=col>&lt;dbl&gt;</th><th scope=col>&lt;chr&gt;</th><th scope=col>&lt;chr&gt;</th><th scope=col>&lt;chr&gt;</th></tr>\n",
       "</thead>\n",
       "<tbody>\n",
       "\t<tr><td>weight</td><td>1</td><td>2</td><td>0.2176326</td><td>0.22</td><td>0.22</td><td>ns</td><td>T-test</td></tr>\n",
       "</tbody>\n",
       "</table>\n"
      ],
      "text/latex": [
       "A tibble: 1 × 8\n",
       "\\begin{tabular}{llllllll}\n",
       " .y. & group1 & group2 & p & p.adj & p.format & p.signif & method\\\\\n",
       " <chr> & <chr> & <chr> & <dbl> & <dbl> & <chr> & <chr> & <chr>\\\\\n",
       "\\hline\n",
       "\t weight & 1 & 2 & 0.2176326 & 0.22 & 0.22 & ns & T-test\\\\\n",
       "\\end{tabular}\n"
      ],
      "text/markdown": [
       "\n",
       "A tibble: 1 × 8\n",
       "\n",
       "| .y. &lt;chr&gt; | group1 &lt;chr&gt; | group2 &lt;chr&gt; | p &lt;dbl&gt; | p.adj &lt;dbl&gt; | p.format &lt;chr&gt; | p.signif &lt;chr&gt; | method &lt;chr&gt; |\n",
       "|---|---|---|---|---|---|---|---|\n",
       "| weight | 1 | 2 | 0.2176326 | 0.22 | 0.22 | ns | T-test |\n",
       "\n"
      ],
      "text/plain": [
       "  .y.    group1 group2 p         p.adj p.format p.signif method\n",
       "1 weight 1      2      0.2176326 0.22  0.22     ns       T-test"
      ]
     },
     "metadata": {},
     "output_type": "display_data"
    }
   ],
   "source": [
    "compare_means(weight ~ Diet, data = chicks_sub, method = \"t.test\")"
   ]
  },
  {
   "cell_type": "markdown",
   "id": "3587ead3-a644-46be-a15b-ff6696098b1d",
   "metadata": {},
   "source": [
    "As one may recall from the previous chapter, whenever we want to give a formula to a function in R, we use the `~`. The formula used above, `weight ~ Diet`, reads in plain English as \"weight as a function of diet\". This is perhaps easier to understand as \"Y as a function of X\". This means that we are assuming whatever is to the left of the `~` is the dependant variable, and whatever is to the right is the independent variable. We then tell `compare_means()` to run a *t*-test on our `chicks_sub` dataframe and it does the rest. We see in the output above that this function gives us a rather tidy read-out of the information we require to test a potential hypothesis. Let's take a moment to look through the help file for this function and see what all of this means. Did the Diet 1 and 2 produce significantly fatter birds?\n",
    "\n",
    "## ANOVA\n",
    "\n",
    "In the `chicks` data we have four diets, not only two as in the *t*-test example just performed. Why not then simply do a *t*-test multiple times, once for each pair of diets given to the chickens? The problem is that the chances of committing a Type I error increases as more multiple comparisons are done. So, the overall chance of rejecting the null hypothesis increases. Why? If one sets $\\alpha=0.05$ (the significance level below which the null hypothesis is no longer accepted), one will still reject the null hypothesis 5% of the time when it is in fact true (i.e. when there is no difference between the groups). When many pairwise comparisons are made, the probability of rejecting the null hypothesis at least once is higher because we take this 5% risk each time we repeat a *t*-test. In the case of the chicken diets, we would have to perform six *t*-tests, and the error rate would increase to slightly less than $6\\times5\\%$. If you insist in creating more work for yourself and do *t*-tests many times, one way to overcome the problem of committing Type I errors that stems from multiple comparisons is to apply a Bonferroni correction.\n",
    "\n",
    "Or better still, we do an ANOVA that controls for these Type I errors so that it remains at 5%.\n",
    "\n",
    "A suitable null hypothesis for our chicken weight data is:\n",
    "\n",
    "$$H_{0}:\\mu_{1}=\\mu_{2}=\\mu_{3}=\\mu_{4}$$ where $\\mu_{1...4}$ are the means of the four diets.\n",
    "\n",
    "At this point I was very tempted to put many equations here, but I ommitted them for your sake. Let us turn to some examples.\n",
    "\n",
    "### Single factor\n",
    "\n",
    "We continue with the chicken data. The *t*-test showed that Diets 1 and 2 resulted in the same chicken masses at the end of the experiment at Day 21. What about the other two diets? Our null hypothesis is that, at Day 21, $\\mu_{1}=\\mu_{2}=\\mu_{3}=\\mu_{4}$. Is there a statistical difference between chickens fed these four diets, or do we retain the null hypothesis? The R function for an ANOVA is `aov()`. To look for significant differences between all four diets on the last day of sampling we use this one line of code:"
   ]
  },
  {
   "cell_type": "code",
   "execution_count": 3,
   "id": "29c386ad-18d6-4223-a230-f40d7a799dcb",
   "metadata": {},
   "outputs": [
    {
     "data": {
      "text/plain": [
       "            Df Sum Sq Mean Sq F value  Pr(>F)   \n",
       "Diet         3  57164   19055   4.655 0.00686 **\n",
       "Residuals   41 167839    4094                   \n",
       "---\n",
       "Signif. codes:  0 ‘***’ 0.001 ‘**’ 0.01 ‘*’ 0.05 ‘.’ 0.1 ‘ ’ 1"
      ]
     },
     "metadata": {},
     "output_type": "display_data"
    }
   ],
   "source": [
    "chicks.aov1 <- aov(weight ~ Diet, data = filter(chicks, Time == 21))\n",
    "summary(chicks.aov1)"
   ]
  },
  {
   "cell_type": "markdown",
   "id": "aeb3c415-b7a1-453f-802b-b8cc8d74bd25",
   "metadata": {},
   "source": [
    "<div class=\"alert alert-block alert-success\">\n",
    "<b>Task:</b> What does the outcome say about the chicken masses? Which ones are different from each other?\n",
    "</div>\n",
    "\n",
    "<div class=\"alert alert-block alert-success\">   \n",
    "<b>Task:</b> Devise a graphical display of this outcome.\n",
    "</div>\n",
    "    \n",
    "If this seems too easy to be true, it's because we aren't quite done yet. You could use your graphical display to eyeball where the significant differences are, or we can turn to a more 'precise' approach. The next step one could take is to run a Tukey HSD test on the results of the ANOVA by wrapping `tukeyHSD()` around `aov()`:"
   ]
  },
  {
   "cell_type": "code",
   "execution_count": 4,
   "id": "75e167f6-aca9-4b5e-9e37-0f026f4b89f2",
   "metadata": {},
   "outputs": [
    {
     "data": {
      "text/plain": [
       "  Tukey multiple comparisons of means\n",
       "    95% family-wise confidence level\n",
       "\n",
       "Fit: aov(formula = weight ~ Diet, data = filter(chicks, Time == 21))\n",
       "\n",
       "$Diet\n",
       "         diff        lwr       upr     p adj\n",
       "2-1  36.95000  -32.11064 106.01064 0.4868095\n",
       "3-1  92.55000   23.48936 161.61064 0.0046959\n",
       "4-1  60.80556  -10.57710 132.18821 0.1192661\n",
       "3-2  55.60000  -21.01591 132.21591 0.2263918\n",
       "4-2  23.85556  -54.85981 102.57092 0.8486781\n",
       "4-3 -31.74444 -110.45981  46.97092 0.7036249\n"
      ]
     },
     "metadata": {},
     "output_type": "display_data"
    }
   ],
   "source": [
    "TukeyHSD(chicks.aov1)"
   ]
  },
  {
   "cell_type": "code",
   "execution_count": 5,
   "id": "508288e8-df5a-43e5-91cc-98d07cced587",
   "metadata": {},
   "outputs": [],
   "source": [
    "show_video <- function(filename, mimetype) {\n",
    "    library(IRdisplay)\n",
    "    library(base64enc)\n",
    "\n",
    "    data = base64encode(filename, 'raw')\n",
    "\n",
    "    display_html(paste0('<video controls src=\"data:',\n",
    "         mimetype, ';base64,', data, '\">'))\n",
    "    }"
   ]
  },
  {
   "cell_type": "markdown",
   "id": "6104b1eb-b9eb-4bba-a43a-c546518a38e3",
   "metadata": {},
   "source": [
    "The output of `tukeyHSD()` shows us that pairwise comparisons of all of the groups we are comparing.\n",
    "\n",
    "<div class=\"alert alert-block alert-success\">\n",
    "<b>Task:</b> Look at the help file for this function to better understand what the output means.\n",
    "</div>\n",
    "    \n",
    "<div class=\"alert alert-block alert-success\">\n",
    "<b>Task:</b> How does one interpret the results? What does this tell us about the effect that that different diets has on the chicken weights at Day 21?\n",
    "</div>\n",
    "    \n",
    "<div class=\"alert alert-block alert-success\">   \n",
    "<b>Task:</b> Figure out a way to plot the Tukey HSD outcomes.\n",
    "</div>\n",
    "    \n",
    "<div class=\"alert alert-block alert-success\">\n",
    "<b>Task:</b> Why does the ANOVA return a significant result, but the Tukey test shows that not all of the groups are significantly different from one another?\n",
    "</div>\n",
    "    \n",
    "<div class=\"alert alert-block alert-success\">\n",
    "<b>Task:</b> Produce a graphical display of the Tukey HSD result.\n",
    "</div>\n",
    "\n",
    "<!-- ```{r} -->\n",
    "\n",
    "<!-- # plot(TukeyHSD(chicks.aov)) -->\n",
    "\n",
    "<!-- ``` -->\n",
    "\n",
    "Now that we've seen how to perform a single factor ANOVA, let's watch some animations that highlight how certain aspects of our data may affect our results.\n",
    "\n",
    "-   When the [sample size](../Resources/aov_n_slide.mp4){width=\"400\" height=\"300\"} <video width=\"320\" height=\"240\" controls> <source src=\"../Resources/aov_n_slide.mp4\" type=\"video/mp4\"> </video> changes\n",
    "-   When the [mean](figures/aov_mean_slide.mp4){width=\"400\" height=\"300\"} <video width=\"320\" height=\"240\" controls> <source src=\"figures/aov_mean_slide.mp4\" type=\"video/mp4\"> </video> of one sample changes\n",
    "-   When the [variance](../Resources/aov_sd_slide.mp4){width=\"400\" height=\"300\"} <video width=\"320\" height=\"240\" controls> <source src=\"figures/aov_sd_slide.mp4\" type=\"video/mp4\"> </video> of one sample increases"
   ]
  },
  {
   "cell_type": "markdown",
   "id": "8e945082-acee-4232-94e6-4b3b40366ffa",
   "metadata": {},
   "source": [
    "### Multiple factors\n",
    "\n",
    "What if we have multiple grouping variables, and not just one? In the case of the chicken data, there is also time that seems to be having an effect.\n",
    "\n",
    "<div class=\"alert alert-block alert-success\">\n",
    "<b>Task:</b> How is time having an effect?\n",
    "</div>\n",
    "    \n",
    "<div class=\"alert alert-block alert-success\">\n",
    "<b>Task:</b> What hypotheses can we construct around time?\n",
    "</div>\n",
    "    \n",
    "Let us look at some variations around questions concerning time. We might ask, at a particular time step, are there differences amongst the effect due to diet on chicken mass? Let's see when diets are starting the have an effect by examining the outcomes at times 0, 2, 10, and 21:"
   ]
  },
  {
   "cell_type": "code",
   "execution_count": 6,
   "id": "c6f5ada0-5280-4a08-ab84-61e85d888d53",
   "metadata": {},
   "outputs": [
    {
     "data": {
      "text/plain": [
       "            Df Sum Sq Mean Sq F value Pr(>F)\n",
       "Diet         3   4.32   1.440   1.132  0.346\n",
       "Residuals   46  58.50   1.272               "
      ]
     },
     "metadata": {},
     "output_type": "display_data"
    },
    {
     "data": {
      "text/plain": [
       "            Df Sum Sq Mean Sq F value  Pr(>F)   \n",
       "Diet         3  158.4   52.81   4.781 0.00555 **\n",
       "Residuals   46  508.1   11.05                   \n",
       "---\n",
       "Signif. codes:  0 ‘***’ 0.001 ‘**’ 0.01 ‘*’ 0.05 ‘.’ 0.1 ‘ ’ 1"
      ]
     },
     "metadata": {},
     "output_type": "display_data"
    },
    {
     "data": {
      "text/plain": [
       "            Df Sum Sq Mean Sq F value   Pr(>F)    \n",
       "Diet         3   8314    2771    6.46 0.000989 ***\n",
       "Residuals   45  19304     429                     \n",
       "---\n",
       "Signif. codes:  0 ‘***’ 0.001 ‘**’ 0.01 ‘*’ 0.05 ‘.’ 0.1 ‘ ’ 1"
      ]
     },
     "metadata": {},
     "output_type": "display_data"
    },
    {
     "data": {
      "text/plain": [
       "            Df Sum Sq Mean Sq F value  Pr(>F)   \n",
       "Diet         3  57164   19055   4.655 0.00686 **\n",
       "Residuals   41 167839    4094                   \n",
       "---\n",
       "Signif. codes:  0 ‘***’ 0.001 ‘**’ 0.01 ‘*’ 0.05 ‘.’ 0.1 ‘ ’ 1"
      ]
     },
     "metadata": {},
     "output_type": "display_data"
    }
   ],
   "source": [
    "summary(aov(weight ~ Diet, data = filter(chicks, Time %in% c(0))))\n",
    "summary(aov(weight ~ Diet, data = filter(chicks, Time %in% c(2))))\n",
    "summary(aov(weight ~ Diet, data = filter(chicks, Time %in% c(10))))\n",
    "summary(aov(weight ~ Diet, data = filter(chicks, Time %in% c(21))))"
   ]
  },
  {
   "cell_type": "markdown",
   "id": "5d35c7e4-fb55-4cdc-9c4c-0d90a2b2bbbd",
   "metadata": {},
   "source": [
    "<div class=\"alert alert-block alert-success\">\n",
    "<b>Task:</b> What do you conclude from the above series of ANOVAs?\n",
    "</div>\n",
    "    \n",
    "<div class=\"alert alert-block alert-success\">\n",
    "<b>Task:</b> What problem is associated with running multiple tests in the way that we have done here?\n",
    "</div>"
   ]
  },
  {
   "cell_type": "markdown",
   "id": "99cc767d-f751-4e10-88a4-c2683f3d6d55",
   "metadata": {},
   "source": [
    "Or we may ask, regardless of diet (i.e. disregarding the effect of diet by clumping all chickens together), is time having an effect?"
   ]
  },
  {
   "cell_type": "code",
   "execution_count": 7,
   "id": "0047de64-432c-4049-ad3a-fe711ddabf5b",
   "metadata": {},
   "outputs": [
    {
     "data": {
      "text/plain": [
       "                 Df Sum Sq Mean Sq F value Pr(>F)    \n",
       "as.factor(Time)   3 939259  313086   234.8 <2e-16 ***\n",
       "Residuals       190 253352    1333                   \n",
       "---\n",
       "Signif. codes:  0 ‘***’ 0.001 ‘**’ 0.01 ‘*’ 0.05 ‘.’ 0.1 ‘ ’ 1"
      ]
     },
     "metadata": {},
     "output_type": "display_data"
    }
   ],
   "source": [
    "chicks.aov2 <- aov(weight ~ as.factor(Time), data = filter(chicks, Time %in% c(0, 2, 10, 21)))\n",
    "summary(chicks.aov2)"
   ]
  },
  {
   "cell_type": "markdown",
   "id": "6dcbfe9d-4966-4170-a6c5-0e54df55a57e",
   "metadata": {},
   "source": [
    "<div class=\"alert alert-block alert-success\">\n",
    "<b>Task:</b> What do you conclude from the above ANOVA?\n",
    "</div>"
   ]
  },
  {
   "cell_type": "markdown",
   "id": "71cd5f51-ed09-4d32-883b-fe97b69e50d1",
   "metadata": {},
   "source": [
    "Or, to save ourselves a lot of time and reduce the coding effort, we may simply run a two-way ANOVA and look at the effects of `Diet` and `Time` simultaneously. To specify the different factors we put them in our formula and separate them with a `+`:"
   ]
  },
  {
   "cell_type": "code",
   "execution_count": 8,
   "id": "104defeb-60c9-40ad-8668-cfb31527357a",
   "metadata": {},
   "outputs": [
    {
     "data": {
      "text/plain": [
       "                Df Sum Sq Mean Sq F value  Pr(>F)    \n",
       "Diet             3  39595   13198   5.987 0.00091 ***\n",
       "as.factor(Time)  1 734353  734353 333.120 < 2e-16 ***\n",
       "Residuals       90 198402    2204                    \n",
       "---\n",
       "Signif. codes:  0 ‘***’ 0.001 ‘**’ 0.01 ‘*’ 0.05 ‘.’ 0.1 ‘ ’ 1"
      ]
     },
     "metadata": {},
     "output_type": "display_data"
    }
   ],
   "source": [
    "summary(aov(weight ~ Diet + as.factor(Time), data = filter(chicks, Time %in% c(0, 21))))"
   ]
  },
  {
   "cell_type": "markdown",
   "id": "660370b1-cdad-4f9c-b5dd-e78085a651a1",
   "metadata": {},
   "source": [
    "<div class=\"alert alert-block alert-success\">\n",
    "<b>Task:</b> What question are we asking with the above line of code? What is the answer? Also, why did we wrap `Time` in `as.factor()`?\n",
    "</div>"
   ]
  },
  {
   "cell_type": "markdown",
   "id": "982500b5-8e86-472d-90aa-ae4b7e51bebb",
   "metadata": {},
   "source": [
    "It is also possible to look at what the interaction effect between grouping variables (i.e. in this case the effect of time on diet---does the effect of time depend on which diet we are looking at?), and not just within the individual grouping variables. To do this we replace the `+` in our formula with `*`:"
   ]
  },
  {
   "cell_type": "code",
   "execution_count": 9,
   "id": "d8c20392-95e8-410a-aff8-64437cac72ee",
   "metadata": {},
   "outputs": [
    {
     "data": {
      "text/plain": [
       "                     Df Sum Sq Mean Sq F value   Pr(>F)    \n",
       "Diet                  3  40914   13638   6.968 0.000298 ***\n",
       "as.factor(Time)       1 582221  582221 297.472  < 2e-16 ***\n",
       "Diet:as.factor(Time)  3  25530    8510   4.348 0.006684 ** \n",
       "Residuals            86 168322    1957                     \n",
       "---\n",
       "Signif. codes:  0 ‘***’ 0.001 ‘**’ 0.01 ‘*’ 0.05 ‘.’ 0.1 ‘ ’ 1"
      ]
     },
     "metadata": {},
     "output_type": "display_data"
    }
   ],
   "source": [
    "summary(aov(weight ~ Diet * as.factor(Time), data = filter(chicks, Time %in% c(4, 21))))"
   ]
  },
  {
   "cell_type": "markdown",
   "id": "d7caffed-d3ea-4b78-92a5-7c98eda32517",
   "metadata": {},
   "source": [
    "<div class=\"alert alert-block alert-success\">\n",
    "<b>Task:</b> How do these results differ from the previous set?\n",
    "</div>"
   ]
  },
  {
   "cell_type": "markdown",
   "id": "e10b1522-7eb1-4a70-8db2-0f6a678b72b8",
   "metadata": {},
   "source": [
    "One may also run a post-hoc Tukey test on these results the same as for a single factor ANOVA:"
   ]
  },
  {
   "cell_type": "code",
   "execution_count": 10,
   "id": "6695762f-082a-40fe-9cdf-2dc930d503e5",
   "metadata": {},
   "outputs": [
    {
     "data": {
      "text/plain": [
       "  Tukey multiple comparisons of means\n",
       "    95% family-wise confidence level\n",
       "\n",
       "Fit: aov(formula = weight ~ Diet * as.factor(Time), data = filter(chicks, Time %in% c(20, 21)))\n",
       "\n",
       "$Diet\n",
       "         diff        lwr       upr     p adj\n",
       "2-1  36.18030  -9.301330  81.66194 0.1663037\n",
       "3-1  90.63030  45.148670 136.11194 0.0000075\n",
       "4-1  62.25253  15.223937 109.28111 0.0045092\n",
       "3-2  54.45000   3.696023 105.20398 0.0305957\n",
       "4-2  26.07222 -26.072532  78.21698 0.5586643\n",
       "4-3 -28.37778 -80.522532  23.76698 0.4863940\n",
       "\n",
       "$`as.factor(Time)`\n",
       "          diff       lwr      upr     p adj\n",
       "21-20 8.088223 -17.44017 33.61661 0.5303164\n",
       "\n",
       "$`Diet:as.factor(Time)`\n",
       "                diff        lwr        upr     p adj\n",
       "2:20-1:20  35.188235  -40.67378 111.050253 0.8347209\n",
       "3:20-1:20  88.488235   12.62622 164.350253 0.0111136\n",
       "4:20-1:20  63.477124  -14.99365 141.947897 0.2035951\n",
       "1:21-1:20   7.338235  -58.96573  73.642198 0.9999703\n",
       "2:21-1:20  44.288235  -31.57378 120.150253 0.6116081\n",
       "3:21-1:20  99.888235   24.02622 175.750253 0.0023872\n",
       "4:21-1:20  68.143791  -10.32698 146.614563 0.1371181\n",
       "3:20-2:20  53.300000  -31.82987 138.429869 0.5234263\n",
       "4:20-2:20  28.288889  -59.17374 115.751515 0.9723470\n",
       "1:21-2:20 -27.850000 -104.58503  48.885027 0.9486212\n",
       "2:21-2:20   9.100000  -76.02987  94.229869 0.9999766\n",
       "3:21-2:20  64.700000  -20.42987 149.829869 0.2732059\n",
       "4:21-2:20  32.955556  -54.50707 120.418182 0.9377007\n",
       "4:20-3:20 -25.011111 -112.47374  62.451515 0.9862822\n",
       "1:21-3:20 -81.150000 -157.88503  -4.414973 0.0305283\n",
       "2:21-3:20 -44.200000 -129.32987  40.929869 0.7402877\n",
       "3:21-3:20  11.400000  -73.72987  96.529869 0.9998919\n",
       "4:21-3:20 -20.344444 -107.80707  67.118182 0.9960548\n",
       "1:21-4:20 -56.138889 -135.45396  23.176184 0.3619622\n",
       "2:21-4:20 -19.188889 -106.65152  68.273738 0.9972631\n",
       "3:21-4:20  36.411111  -51.05152 123.873738 0.8984019\n",
       "4:21-4:20   4.666667  -85.06809  94.401428 0.9999998\n",
       "2:21-1:21  36.950000  -39.78503 113.685027 0.8067041\n",
       "3:21-1:21  92.550000   15.81497 169.285027 0.0075185\n",
       "4:21-1:21  60.805556  -18.50952 140.120628 0.2629945\n",
       "3:21-2:21  55.600000  -29.52987 140.729869 0.4679025\n",
       "4:21-2:21  23.855556  -63.60707 111.318182 0.9896157\n",
       "4:21-3:21 -31.744444 -119.20707  55.718182 0.9486128\n"
      ]
     },
     "metadata": {},
     "output_type": "display_data"
    }
   ],
   "source": [
    "TukeyHSD(aov(weight ~ Diet * as.factor(Time), data = filter(chicks, Time %in% c(20, 21))))"
   ]
  },
  {
   "cell_type": "markdown",
   "id": "61c29051-6678-4524-bfec-0b55a59636a1",
   "metadata": {},
   "source": [
    "<div class=\"alert alert-block alert-success\">\n",
    "<b>Task:</b> Yikes! That's a massive amount of results. What does all of this mean, and why is it so verbose?\n",
    "</div>"
   ]
  },
  {
   "cell_type": "markdown",
   "id": "fdcb6fa7-d1f3-4fd2-a49d-04c3ca0630d3",
   "metadata": {},
   "source": [
    "#### About interaction terms\n",
    "\n",
    "<!-- AJS to insert stuff here -->\n",
    "\n",
    "### Examples\n",
    "\n",
    "#### Snakes!\n",
    "\n",
    "These data could be analysed by a two-way ANOVA without replication, or a repeated measures ANOVA. Here I will analyse it by using a two-way ANOVA without replication.\n",
    "\n",
    "Place and Abramson (2008) placed diamondback rattlesnakes (*Crotalus atrox*) in a \"rattlebox,\" a box with a lid that would slide open and shut every 5 minutes. At first, the snake would rattle its tail each time the box opened. After a while, the snake would become habituated to the box opening and stop rattling its tail. They counted the number of box openings until a snake stopped rattling; fewer box openings means the snake was more quickly habituated. They repeated this experiment on each snake on four successive days, which is treated as an influential variable here. Place and Abramson (2008) used 10 snakes, but some of them never became habituated; to simplify this example, data from the six snakes that did become habituated on each day are used.\n",
    "\n",
    "First, we read in the data, making sure to convert the column named `day` to a factor. Why? Because ANOVAs work with factor independent variables, while `day` as it is encoded by default is in fact a continuous variable."
   ]
  },
  {
   "cell_type": "code",
   "execution_count": 11,
   "id": "e2f7a555-c67e-44cd-b04b-05918ceb39bd",
   "metadata": {},
   "outputs": [],
   "source": [
    "snakes <- read.csv(\"../data/snakes.csv\")\n",
    "snakes$day = as.factor(snakes$day)"
   ]
  },
  {
   "cell_type": "markdown",
   "id": "ec5da753-c6d5-4278-971c-f25c362f15ee",
   "metadata": {},
   "source": [
    "The first thing we do is to create some summaries of the data. Refer to the summary statistics Chapter."
   ]
  },
  {
   "cell_type": "code",
   "execution_count": 12,
   "id": "d43e72e0-a8b3-47b0-bc62-ea8063fe856e",
   "metadata": {},
   "outputs": [
    {
     "data": {
      "text/html": [
       "<table class=\"dataframe\">\n",
       "<caption>A tibble: 24 × 4</caption>\n",
       "<thead>\n",
       "\t<tr><th scope=col>day</th><th scope=col>snake</th><th scope=col>mean_openings</th><th scope=col>sd_openings</th></tr>\n",
       "\t<tr><th scope=col>&lt;fct&gt;</th><th scope=col>&lt;chr&gt;</th><th scope=col>&lt;dbl&gt;</th><th scope=col>&lt;dbl&gt;</th></tr>\n",
       "</thead>\n",
       "<tbody>\n",
       "\t<tr><td>1</td><td>D1 </td><td> 85</td><td>NA</td></tr>\n",
       "\t<tr><td>1</td><td>D11</td><td> 40</td><td>NA</td></tr>\n",
       "\t<tr><td>1</td><td>D12</td><td> 65</td><td>NA</td></tr>\n",
       "\t<tr><td>1</td><td>D3 </td><td>107</td><td>NA</td></tr>\n",
       "\t<tr><td>1</td><td>D5 </td><td> 61</td><td>NA</td></tr>\n",
       "\t<tr><td>1</td><td>D8 </td><td> 22</td><td>NA</td></tr>\n",
       "\t<tr><td>2</td><td>D1 </td><td> 58</td><td>NA</td></tr>\n",
       "\t<tr><td>2</td><td>D11</td><td> 45</td><td>NA</td></tr>\n",
       "\t<tr><td>2</td><td>D12</td><td> 27</td><td>NA</td></tr>\n",
       "\t<tr><td>2</td><td>D3 </td><td> 51</td><td>NA</td></tr>\n",
       "\t<tr><td>2</td><td>D5 </td><td> 60</td><td>NA</td></tr>\n",
       "\t<tr><td>2</td><td>D8 </td><td> 41</td><td>NA</td></tr>\n",
       "\t<tr><td>3</td><td>D1 </td><td> 15</td><td>NA</td></tr>\n",
       "\t<tr><td>3</td><td>D11</td><td> 28</td><td>NA</td></tr>\n",
       "\t<tr><td>3</td><td>D12</td><td>  3</td><td>NA</td></tr>\n",
       "\t<tr><td>3</td><td>D3 </td><td> 30</td><td>NA</td></tr>\n",
       "\t<tr><td>3</td><td>D5 </td><td> 68</td><td>NA</td></tr>\n",
       "\t<tr><td>3</td><td>D8 </td><td> 63</td><td>NA</td></tr>\n",
       "\t<tr><td>4</td><td>D1 </td><td> 57</td><td>NA</td></tr>\n",
       "\t<tr><td>4</td><td>D11</td><td> 10</td><td>NA</td></tr>\n",
       "\t<tr><td>4</td><td>D12</td><td> 16</td><td>NA</td></tr>\n",
       "\t<tr><td>4</td><td>D3 </td><td> 12</td><td>NA</td></tr>\n",
       "\t<tr><td>4</td><td>D5 </td><td> 36</td><td>NA</td></tr>\n",
       "\t<tr><td>4</td><td>D8 </td><td> 21</td><td>NA</td></tr>\n",
       "</tbody>\n",
       "</table>\n"
      ],
      "text/latex": [
       "A tibble: 24 × 4\n",
       "\\begin{tabular}{llll}\n",
       " day & snake & mean\\_openings & sd\\_openings\\\\\n",
       " <fct> & <chr> & <dbl> & <dbl>\\\\\n",
       "\\hline\n",
       "\t 1 & D1  &  85 & NA\\\\\n",
       "\t 1 & D11 &  40 & NA\\\\\n",
       "\t 1 & D12 &  65 & NA\\\\\n",
       "\t 1 & D3  & 107 & NA\\\\\n",
       "\t 1 & D5  &  61 & NA\\\\\n",
       "\t 1 & D8  &  22 & NA\\\\\n",
       "\t 2 & D1  &  58 & NA\\\\\n",
       "\t 2 & D11 &  45 & NA\\\\\n",
       "\t 2 & D12 &  27 & NA\\\\\n",
       "\t 2 & D3  &  51 & NA\\\\\n",
       "\t 2 & D5  &  60 & NA\\\\\n",
       "\t 2 & D8  &  41 & NA\\\\\n",
       "\t 3 & D1  &  15 & NA\\\\\n",
       "\t 3 & D11 &  28 & NA\\\\\n",
       "\t 3 & D12 &   3 & NA\\\\\n",
       "\t 3 & D3  &  30 & NA\\\\\n",
       "\t 3 & D5  &  68 & NA\\\\\n",
       "\t 3 & D8  &  63 & NA\\\\\n",
       "\t 4 & D1  &  57 & NA\\\\\n",
       "\t 4 & D11 &  10 & NA\\\\\n",
       "\t 4 & D12 &  16 & NA\\\\\n",
       "\t 4 & D3  &  12 & NA\\\\\n",
       "\t 4 & D5  &  36 & NA\\\\\n",
       "\t 4 & D8  &  21 & NA\\\\\n",
       "\\end{tabular}\n"
      ],
      "text/markdown": [
       "\n",
       "A tibble: 24 × 4\n",
       "\n",
       "| day &lt;fct&gt; | snake &lt;chr&gt; | mean_openings &lt;dbl&gt; | sd_openings &lt;dbl&gt; |\n",
       "|---|---|---|---|\n",
       "| 1 | D1  |  85 | NA |\n",
       "| 1 | D11 |  40 | NA |\n",
       "| 1 | D12 |  65 | NA |\n",
       "| 1 | D3  | 107 | NA |\n",
       "| 1 | D5  |  61 | NA |\n",
       "| 1 | D8  |  22 | NA |\n",
       "| 2 | D1  |  58 | NA |\n",
       "| 2 | D11 |  45 | NA |\n",
       "| 2 | D12 |  27 | NA |\n",
       "| 2 | D3  |  51 | NA |\n",
       "| 2 | D5  |  60 | NA |\n",
       "| 2 | D8  |  41 | NA |\n",
       "| 3 | D1  |  15 | NA |\n",
       "| 3 | D11 |  28 | NA |\n",
       "| 3 | D12 |   3 | NA |\n",
       "| 3 | D3  |  30 | NA |\n",
       "| 3 | D5  |  68 | NA |\n",
       "| 3 | D8  |  63 | NA |\n",
       "| 4 | D1  |  57 | NA |\n",
       "| 4 | D11 |  10 | NA |\n",
       "| 4 | D12 |  16 | NA |\n",
       "| 4 | D3  |  12 | NA |\n",
       "| 4 | D5  |  36 | NA |\n",
       "| 4 | D8  |  21 | NA |\n",
       "\n"
      ],
      "text/plain": [
       "   day snake mean_openings sd_openings\n",
       "1  1   D1     85           NA         \n",
       "2  1   D11    40           NA         \n",
       "3  1   D12    65           NA         \n",
       "4  1   D3    107           NA         \n",
       "5  1   D5     61           NA         \n",
       "6  1   D8     22           NA         \n",
       "7  2   D1     58           NA         \n",
       "8  2   D11    45           NA         \n",
       "9  2   D12    27           NA         \n",
       "10 2   D3     51           NA         \n",
       "11 2   D5     60           NA         \n",
       "12 2   D8     41           NA         \n",
       "13 3   D1     15           NA         \n",
       "14 3   D11    28           NA         \n",
       "15 3   D12     3           NA         \n",
       "16 3   D3     30           NA         \n",
       "17 3   D5     68           NA         \n",
       "18 3   D8     63           NA         \n",
       "19 4   D1     57           NA         \n",
       "20 4   D11    10           NA         \n",
       "21 4   D12    16           NA         \n",
       "22 4   D3     12           NA         \n",
       "23 4   D5     36           NA         \n",
       "24 4   D8     21           NA         "
      ]
     },
     "metadata": {},
     "output_type": "display_data"
    }
   ],
   "source": [
    "snakes.summary <- snakes %>% \n",
    "  group_by(day, snake) %>% \n",
    "  summarise(mean_openings = mean(openings),\n",
    "            sd_openings = sd(openings), .groups = \"drop\") %>% \n",
    "  ungroup()\n",
    "snakes.summary"
   ]
  },
  {
   "cell_type": "markdown",
   "id": "78671c3a-2a43-4937-ab35-7235d936b565",
   "metadata": {},
   "source": [
    "<div class=\"alert alert-block alert-success\">\n",
    "<b>Task:</b> Something seems... off. What's going on here? Please explain this outcome.\n",
    "</div>"
   ]
  },
  {
   "cell_type": "markdown",
   "id": "47e4a2a3-455a-491e-b0bd-6fa03ab8bee2",
   "metadata": {},
   "source": [
    "To fix this problem, let us ignore the grouping by both `snake` and `day`."
   ]
  },
  {
   "cell_type": "code",
   "execution_count": 13,
   "id": "192a8510-de86-4762-a111-b9289b9163ca",
   "metadata": {},
   "outputs": [
    {
     "data": {
      "text/html": [
       "<table class=\"dataframe\">\n",
       "<caption>A tibble: 4 × 3</caption>\n",
       "<thead>\n",
       "\t<tr><th scope=col>day</th><th scope=col>mean_openings</th><th scope=col>sd_openings</th></tr>\n",
       "\t<tr><th scope=col>&lt;fct&gt;</th><th scope=col>&lt;dbl&gt;</th><th scope=col>&lt;dbl&gt;</th></tr>\n",
       "</thead>\n",
       "<tbody>\n",
       "\t<tr><td>1</td><td>63.33333</td><td>30.45434</td></tr>\n",
       "\t<tr><td>2</td><td>47.00000</td><td>12.21475</td></tr>\n",
       "\t<tr><td>3</td><td>34.50000</td><td>25.95958</td></tr>\n",
       "\t<tr><td>4</td><td>25.33333</td><td>18.08498</td></tr>\n",
       "</tbody>\n",
       "</table>\n"
      ],
      "text/latex": [
       "A tibble: 4 × 3\n",
       "\\begin{tabular}{lll}\n",
       " day & mean\\_openings & sd\\_openings\\\\\n",
       " <fct> & <dbl> & <dbl>\\\\\n",
       "\\hline\n",
       "\t 1 & 63.33333 & 30.45434\\\\\n",
       "\t 2 & 47.00000 & 12.21475\\\\\n",
       "\t 3 & 34.50000 & 25.95958\\\\\n",
       "\t 4 & 25.33333 & 18.08498\\\\\n",
       "\\end{tabular}\n"
      ],
      "text/markdown": [
       "\n",
       "A tibble: 4 × 3\n",
       "\n",
       "| day &lt;fct&gt; | mean_openings &lt;dbl&gt; | sd_openings &lt;dbl&gt; |\n",
       "|---|---|---|\n",
       "| 1 | 63.33333 | 30.45434 |\n",
       "| 2 | 47.00000 | 12.21475 |\n",
       "| 3 | 34.50000 | 25.95958 |\n",
       "| 4 | 25.33333 | 18.08498 |\n",
       "\n"
      ],
      "text/plain": [
       "  day mean_openings sd_openings\n",
       "1 1   63.33333      30.45434   \n",
       "2 2   47.00000      12.21475   \n",
       "3 3   34.50000      25.95958   \n",
       "4 4   25.33333      18.08498   "
      ]
     },
     "metadata": {},
     "output_type": "display_data"
    }
   ],
   "source": [
    "snakes.summary <- snakes %>% \n",
    "  group_by(day) %>% \n",
    "  summarise(mean_openings = mean(openings),\n",
    "            sd_openings = sd(openings)) %>% \n",
    "  ungroup()\n",
    "snakes.summary\n",
    "\n",
    "suppressMessages(library(Rmisc))\n",
    "snakes.summary2 <- summarySE(data = snakes, measurevar = \"openings\", groupvars = c(\"day\"))"
   ]
  },
  {
   "cell_type": "markdown",
   "id": "f8e1d548-8f02-49a0-abbf-d80d441249ae",
   "metadata": {},
   "source": [
    "Now we turn to some visual data summaries:"
   ]
  },
  {
   "cell_type": "code",
   "execution_count": 14,
   "id": "180fc557-8e8b-4a9f-81be-56da0ba8fd8c",
   "metadata": {},
   "outputs": [
    {
     "data": {
      "image/png": "[encoded data removed]",
      "text/plain": [
       "plot without title"
      ]
     },
     "metadata": {
      "image/png": {
       "height": 420,
       "width": 420
      }
     },
     "output_type": "display_data"
    }
   ],
   "source": [
    "ggplot(data = snakes, aes(x = day, y = openings)) +\n",
    "  geom_segment(data = snakes.summary2, aes(x = day, xend = day, y = openings - ci, yend = openings + ci, colour = day),\n",
    "              size = 2.0, linetype = \"solid\", show.legend = F) +\n",
    "  geom_boxplot(aes(fill = day), alpha = 0.6, show.legend = F) + \n",
    "  geom_jitter(width = 0.05)"
   ]
  },
  {
   "cell_type": "markdown",
   "id": "d2a98f96-d32d-44dd-9a7d-f25ab519e51f",
   "metadata": {},
   "source": [
    "What are our null hypotheses?\n",
    "\n",
    "1.  H0: There is no difference between snakes with respect to the number of openings at which they habituate.\n",
    "2.  H0: There is no difference between days in terms of the number of openings at which the snakes habituate.\n",
    "\n",
    "Fit the ANOVA model to test these hypotheses:\n"
   ]
  },
  {
   "cell_type": "code",
   "execution_count": 15,
   "id": "f33b66d3-cdcd-4e63-9823-284cbb9dec79",
   "metadata": {},
   "outputs": [
    {
     "data": {
      "text/plain": [
       "            Df Sum Sq Mean Sq F value Pr(>F)  \n",
       "day          3   4878  1625.9   3.320 0.0487 *\n",
       "snake        5   3042   608.4   1.242 0.3382  \n",
       "Residuals   15   7346   489.7                 \n",
       "---\n",
       "Signif. codes:  0 ‘***’ 0.001 ‘**’ 0.01 ‘*’ 0.05 ‘.’ 0.1 ‘ ’ 1"
      ]
     },
     "metadata": {},
     "output_type": "display_data"
    }
   ],
   "source": [
    "snakes.aov <- aov(openings ~ day + snake, data = snakes)\n",
    "summary(snakes.aov)"
   ]
  },
  {
   "cell_type": "markdown",
   "id": "0f0c73a9-e208-4b47-a3c7-9fd1d7dba1d0",
   "metadata": {},
   "source": [
    "Now we need to test of the assumptions hold true (i.e. erros are normally distributed and heteroscedastic). Also, where are the differences?"
   ]
  },
  {
   "cell_type": "code",
   "execution_count": 16,
   "id": "35e59d40-7420-4f86-baca-5aa5e3bde9c7",
   "metadata": {},
   "outputs": [
    {
     "data": {
      "image/png": "[encoded data removed]",
      "text/plain": [
       "Plot with title “90% family-wise confidence level\n",
       "”"
      ]
     },
     "metadata": {
      "image/png": {
       "height": 420,
       "width": 420
      }
     },
     "output_type": "display_data"
    }
   ],
   "source": [
    "par(mfrow = c(2, 2))\n",
    "# Checking assumptions...\n",
    "# make a histogram of the residuals;\n",
    "# they must be normal\n",
    "snakes.res <- residuals(snakes.aov)\n",
    "hist(snakes.res, col = \"red\")\n",
    "\n",
    "# make a plot of residuals and the fitted values;\n",
    "# # they must be normal and homoscedastic\n",
    "plot(fitted(snakes.aov), residuals(snakes.aov), col = \"red\")\n",
    "\n",
    "snakes.tukey <- TukeyHSD(snakes.aov, which = \"day\", conf.level = 0.90)\n",
    "plot(snakes.tukey, las = 1, col = \"red\")"
   ]
  },
  {
   "cell_type": "markdown",
   "id": "140985e3-6a01-4cab-ade1-999ff5ed5691",
   "metadata": {},
   "source": [
    "## Alternatives to ANOVA\n",
    "\n",
    "In the first main section of this chapter we learned how to test hypotheses based on the comparisons of means between sets of data when we were able to meet our two base assumptions. These parametric tests are preferred over non-parametric tests because they are more robust. However, when we simply aren't able to meet these assumptions we must not despair. Non-parametric tests are still useful. In this chapter we will learn how to run non-parametric tests for two sample and multiple sample datasets. Let us go back to the `chicks` data:"
   ]
  },
  {
   "cell_type": "code",
   "execution_count": 17,
   "id": "8e66128f-cc48-4222-8212-90707464f44f",
   "metadata": {},
   "outputs": [
    {
     "data": {
      "text/html": [
       "<table class=\"dataframe\">\n",
       "<caption>A data.frame: 1 × 2</caption>\n",
       "<thead>\n",
       "\t<tr><th scope=col>norm_wt</th><th scope=col>var_wt</th></tr>\n",
       "\t<tr><th scope=col>&lt;dbl&gt;</th><th scope=col>&lt;dbl&gt;</th></tr>\n",
       "</thead>\n",
       "<tbody>\n",
       "\t<tr><td>0.000221918</td><td>1.282041</td></tr>\n",
       "</tbody>\n",
       "</table>\n"
      ],
      "text/latex": [
       "A data.frame: 1 × 2\n",
       "\\begin{tabular}{ll}\n",
       " norm\\_wt & var\\_wt\\\\\n",
       " <dbl> & <dbl>\\\\\n",
       "\\hline\n",
       "\t 0.000221918 & 1.282041\\\\\n",
       "\\end{tabular}\n"
      ],
      "text/markdown": [
       "\n",
       "A data.frame: 1 × 2\n",
       "\n",
       "| norm_wt &lt;dbl&gt; | var_wt &lt;dbl&gt; |\n",
       "|---|---|\n",
       "| 0.000221918 | 1.282041 |\n",
       "\n"
      ],
      "text/plain": [
       "  norm_wt     var_wt  \n",
       "1 0.000221918 1.282041"
      ]
     },
     "metadata": {},
     "output_type": "display_data"
    }
   ],
   "source": [
    "# Then check for failing assumptions\n",
    "chicks %>% \n",
    "  filter(Time == 0) %>% \n",
    "  group_by(Diet) %>% \n",
    "  summarise(norm_wt = as.numeric(shapiro.test(weight)[2]),\n",
    "            var_wt = var(weight))"
   ]
  },
  {
   "cell_type": "markdown",
   "id": "99ffbf5f-d702-414e-bb55-8a41fa470a2c",
   "metadata": {},
   "source": [
    "### Wilcox rank sum test\n",
    "\n",
    "The non-parametric version of a t-test is a Wilcox rank sum test. To perform this test in R we may again use `compare_means()` and specify the test we want:"
   ]
  },
  {
   "cell_type": "code",
   "execution_count": 18,
   "id": "7954ffbf-52b8-48e9-a3d0-a394cedea797",
   "metadata": {},
   "outputs": [
    {
     "data": {
      "text/html": [
       "<table class=\"dataframe\">\n",
       "<caption>A tibble: 1 × 8</caption>\n",
       "<thead>\n",
       "\t<tr><th scope=col>.y.</th><th scope=col>group1</th><th scope=col>group2</th><th scope=col>p</th><th scope=col>p.adj</th><th scope=col>p.format</th><th scope=col>p.signif</th><th scope=col>method</th></tr>\n",
       "\t<tr><th scope=col>&lt;chr&gt;</th><th scope=col>&lt;chr&gt;</th><th scope=col>&lt;chr&gt;</th><th scope=col>&lt;dbl&gt;</th><th scope=col>&lt;dbl&gt;</th><th scope=col>&lt;chr&gt;</th><th scope=col>&lt;chr&gt;</th><th scope=col>&lt;chr&gt;</th></tr>\n",
       "</thead>\n",
       "<tbody>\n",
       "\t<tr><td>weight</td><td>1</td><td>2</td><td>0.2348283</td><td>0.23</td><td>0.23</td><td>ns</td><td>Wilcoxon</td></tr>\n",
       "</tbody>\n",
       "</table>\n"
      ],
      "text/latex": [
       "A tibble: 1 × 8\n",
       "\\begin{tabular}{llllllll}\n",
       " .y. & group1 & group2 & p & p.adj & p.format & p.signif & method\\\\\n",
       " <chr> & <chr> & <chr> & <dbl> & <dbl> & <chr> & <chr> & <chr>\\\\\n",
       "\\hline\n",
       "\t weight & 1 & 2 & 0.2348283 & 0.23 & 0.23 & ns & Wilcoxon\\\\\n",
       "\\end{tabular}\n"
      ],
      "text/markdown": [
       "\n",
       "A tibble: 1 × 8\n",
       "\n",
       "| .y. &lt;chr&gt; | group1 &lt;chr&gt; | group2 &lt;chr&gt; | p &lt;dbl&gt; | p.adj &lt;dbl&gt; | p.format &lt;chr&gt; | p.signif &lt;chr&gt; | method &lt;chr&gt; |\n",
       "|---|---|---|---|---|---|---|---|\n",
       "| weight | 1 | 2 | 0.2348283 | 0.23 | 0.23 | ns | Wilcoxon |\n",
       "\n"
      ],
      "text/plain": [
       "  .y.    group1 group2 p         p.adj p.format p.signif method  \n",
       "1 weight 1      2      0.2348283 0.23  0.23     ns       Wilcoxon"
      ]
     },
     "metadata": {},
     "output_type": "display_data"
    }
   ],
   "source": [
    "compare_means(weight ~ Diet, data = filter(chicks, Time == 0, Diet %in% c(1, 2)), method = \"wilcox.test\")"
   ]
  },
  {
   "cell_type": "markdown",
   "id": "71ff29e3-2fed-43d1-9ecf-ff96f4bbc451",
   "metadata": {},
   "source": [
    "What do our results show?\n",
    "\n",
    "### Kruskall-Wallis rank sum test\n",
    "\n",
    "#### Single factor\n",
    "\n",
    "The non-parametric version of an ANOVA is a Kruskall-Wallis rank sum test. As you may have by now surmised, this may be done with `compare_means()` as seen below:"
   ]
  },
  {
   "cell_type": "code",
   "execution_count": 19,
   "id": "ba12c046-6ed7-4821-864a-d1afa676ccf6",
   "metadata": {},
   "outputs": [
    {
     "data": {
      "text/html": [
       "<table class=\"dataframe\">\n",
       "<caption>A tibble: 1 × 6</caption>\n",
       "<thead>\n",
       "\t<tr><th scope=col>.y.</th><th scope=col>p</th><th scope=col>p.adj</th><th scope=col>p.format</th><th scope=col>p.signif</th><th scope=col>method</th></tr>\n",
       "\t<tr><th scope=col>&lt;chr&gt;</th><th scope=col>&lt;dbl&gt;</th><th scope=col>&lt;dbl&gt;</th><th scope=col>&lt;chr&gt;</th><th scope=col>&lt;chr&gt;</th><th scope=col>&lt;chr&gt;</th></tr>\n",
       "</thead>\n",
       "<tbody>\n",
       "\t<tr><td>weight</td><td>0.4754503</td><td>0.48</td><td>0.48</td><td>ns</td><td>Kruskal-Wallis</td></tr>\n",
       "</tbody>\n",
       "</table>\n"
      ],
      "text/latex": [
       "A tibble: 1 × 6\n",
       "\\begin{tabular}{llllll}\n",
       " .y. & p & p.adj & p.format & p.signif & method\\\\\n",
       " <chr> & <dbl> & <dbl> & <chr> & <chr> & <chr>\\\\\n",
       "\\hline\n",
       "\t weight & 0.4754503 & 0.48 & 0.48 & ns & Kruskal-Wallis\\\\\n",
       "\\end{tabular}\n"
      ],
      "text/markdown": [
       "\n",
       "A tibble: 1 × 6\n",
       "\n",
       "| .y. &lt;chr&gt; | p &lt;dbl&gt; | p.adj &lt;dbl&gt; | p.format &lt;chr&gt; | p.signif &lt;chr&gt; | method &lt;chr&gt; |\n",
       "|---|---|---|---|---|---|\n",
       "| weight | 0.4754503 | 0.48 | 0.48 | ns | Kruskal-Wallis |\n",
       "\n"
      ],
      "text/plain": [
       "  .y.    p         p.adj p.format p.signif method        \n",
       "1 weight 0.4754503 0.48  0.48     ns       Kruskal-Wallis"
      ]
     },
     "metadata": {},
     "output_type": "display_data"
    }
   ],
   "source": [
    "compare_means(weight ~ Diet, data = filter(chicks, Time == 0), method = \"kruskal.test\")"
   ]
  },
  {
   "cell_type": "markdown",
   "id": "6050fb98-ea7c-4fd6-b75e-ee0a3159f93c",
   "metadata": {},
   "source": [
    "As with the ANOVA, this first step with the Kruskall-Wallis test is not the last. We must again run a post-hoc test on our results. This time we will need to use `pgirmess::kruskalmc()`, which means we will need to load a new library."
   ]
  },
  {
   "cell_type": "code",
   "execution_count": 24,
   "id": "637caa04-d4f5-48a9-84ce-af7d13ab8a35",
   "metadata": {},
   "outputs": [
    {
     "data": {
      "text/html": [
       "<dl>\n",
       "\t<dt>$statistic</dt>\n",
       "\t\t<dd>'Multiple comparison test after Kruskal-Wallis'</dd>\n",
       "\t<dt>$signif.level</dt>\n",
       "\t\t<dd>0.05</dd>\n",
       "\t<dt>$dif.com</dt>\n",
       "\t\t<dd><table class=\"dataframe\">\n",
       "<caption>A data.frame: 6 × 3</caption>\n",
       "<thead>\n",
       "\t<tr><th></th><th scope=col>obs.dif</th><th scope=col>critical.dif</th><th scope=col>difference</th></tr>\n",
       "\t<tr><th></th><th scope=col>&lt;dbl&gt;</th><th scope=col>&lt;dbl&gt;</th><th scope=col>&lt;lgl&gt;</th></tr>\n",
       "</thead>\n",
       "<tbody>\n",
       "\t<tr><th scope=row>1-2</th><td>6.95</td><td>14.89506</td><td>FALSE</td></tr>\n",
       "\t<tr><th scope=row>1-3</th><td>6.90</td><td>14.89506</td><td>FALSE</td></tr>\n",
       "\t<tr><th scope=row>1-4</th><td>4.15</td><td>14.89506</td><td>FALSE</td></tr>\n",
       "\t<tr><th scope=row>2-3</th><td>0.05</td><td>17.19933</td><td>FALSE</td></tr>\n",
       "\t<tr><th scope=row>2-4</th><td>2.80</td><td>17.19933</td><td>FALSE</td></tr>\n",
       "\t<tr><th scope=row>3-4</th><td>2.75</td><td>17.19933</td><td>FALSE</td></tr>\n",
       "</tbody>\n",
       "</table>\n",
       "</dd>\n",
       "</dl>\n"
      ],
      "text/latex": [
       "\\begin{description}\n",
       "\\item[\\$statistic] 'Multiple comparison test after Kruskal-Wallis'\n",
       "\\item[\\$signif.level] 0.05\n",
       "\\item[\\$dif.com] A data.frame: 6 × 3\n",
       "\\begin{tabular}{r|lll}\n",
       "  & obs.dif & critical.dif & difference\\\\\n",
       "  & <dbl> & <dbl> & <lgl>\\\\\n",
       "\\hline\n",
       "\t1-2 & 6.95 & 14.89506 & FALSE\\\\\n",
       "\t1-3 & 6.90 & 14.89506 & FALSE\\\\\n",
       "\t1-4 & 4.15 & 14.89506 & FALSE\\\\\n",
       "\t2-3 & 0.05 & 17.19933 & FALSE\\\\\n",
       "\t2-4 & 2.80 & 17.19933 & FALSE\\\\\n",
       "\t3-4 & 2.75 & 17.19933 & FALSE\\\\\n",
       "\\end{tabular}\n",
       "\n",
       "\\end{description}\n"
      ],
      "text/markdown": [
       "$statistic\n",
       ":   'Multiple comparison test after Kruskal-Wallis'\n",
       "$signif.level\n",
       ":   0.05\n",
       "$dif.com\n",
       ":   \n",
       "A data.frame: 6 × 3\n",
       "\n",
       "| <!--/--> | obs.dif &lt;dbl&gt; | critical.dif &lt;dbl&gt; | difference &lt;lgl&gt; |\n",
       "|---|---|---|---|\n",
       "| 1-2 | 6.95 | 14.89506 | FALSE |\n",
       "| 1-3 | 6.90 | 14.89506 | FALSE |\n",
       "| 1-4 | 4.15 | 14.89506 | FALSE |\n",
       "| 2-3 | 0.05 | 17.19933 | FALSE |\n",
       "| 2-4 | 2.80 | 17.19933 | FALSE |\n",
       "| 3-4 | 2.75 | 17.19933 | FALSE |\n",
       "\n",
       "\n",
       "\n",
       "\n"
      ],
      "text/plain": [
       "Multiple comparison test after Kruskal-Wallis \n",
       "p.value: 0.05 \n",
       "Comparisons\n",
       "    obs.dif critical.dif difference\n",
       "1-2    6.95     14.89506      FALSE\n",
       "1-3    6.90     14.89506      FALSE\n",
       "1-4    4.15     14.89506      FALSE\n",
       "2-3    0.05     17.19933      FALSE\n",
       "2-4    2.80     17.19933      FALSE\n",
       "3-4    2.75     17.19933      FALSE"
      ]
     },
     "metadata": {},
     "output_type": "display_data"
    }
   ],
   "source": [
    "suppressMessages(library(pgirmess))\n",
    "\n",
    "kruskalmc(weight ~ Diet, data = filter(chicks, Time == 0))"
   ]
  },
  {
   "cell_type": "markdown",
   "id": "1e73588e-949a-4276-ae4c-e9a1b717ba0f",
   "metadata": {},
   "source": [
    "Let's consult the help file for `kruskalmc()` to understand what this print-out means.\n",
    "\n",
    "#### Multiple factors\n",
    "\n",
    "The water becomes murky quickly when one wants to perform multiple factor non-parametric comparison of means tests. To that end, we will not cover the few existing methods here. Rather, one should avoid the necessity for these types of tests when designing an experiment.\n",
    "\n",
    "### The SA time data"
   ]
  },
  {
   "cell_type": "code",
   "execution_count": 21,
   "id": "43ad0969-4b83-4bc4-9512-9ddb657fbb29",
   "metadata": {},
   "outputs": [
    {
     "data": {
      "image/png": "[encoded data removed]",
      "text/plain": [
       "plot without title"
      ]
     },
     "metadata": {
      "image/png": {
       "height": 420,
       "width": 420
      }
     },
     "output_type": "display_data"
    },
    {
     "data": {
      "image/png": "[encoded data removed]",
      "text/plain": [
       "plot without title"
      ]
     },
     "metadata": {
      "image/png": {
       "height": 420,
       "width": 420
      }
     },
     "output_type": "display_data"
    }
   ],
   "source": [
    "sa_time <- as_tibble(read_csv(\"../data/SA_time.csv\", col_types = list(col_double(), col_double(), col_double())))\n",
    "sa_time_long <- sa_time %>% \n",
    "  gather(key = \"term\", value = \"minutes\") %>% \n",
    "  filter(minutes < 300) %>% \n",
    "  mutate(term = as.factor(term))\n",
    "\n",
    "my_comparisons <- list( c(\"now\", \"now_now\"), c(\"now_now\", \"just_now\"), c(\"now\", \"just_now\") )\n",
    "\n",
    "ggboxplot(sa_time_long, x = \"term\", y = \"minutes\",\n",
    "          color = \"term\", palette = c(\"#00AFBB\", \"#E7B800\", \"#FC4E07\"),\n",
    "          add = \"jitter\", shape = \"term\")\n",
    "\n",
    "ggviolin(sa_time_long, x = \"term\", y = \"minutes\", fill = \"term\",\n",
    "         palette = c(\"#00AFBB\", \"#E7B800\", \"#FC4E07\"),\n",
    "         add = \"boxplot\", add.params = list(fill = \"white\")) +\n",
    "  stat_compare_means(comparisons = my_comparisons, label = \"p.signif\") + # Add significance levels\n",
    "  stat_compare_means(label.y = 50)                                      # Add global the p-value "
   ]
  },
  {
   "cell_type": "markdown",
   "id": "30d929d8-e6c3-4d08-a979-41b8eb6f0ca9",
   "metadata": {},
   "source": [
    "## Exercises\n",
    "\n",
    "<div class=\"alert alert-block alert-success\">\n",
    "    <b>Exercise 1:</b> Here is bunch of data for pigs raised on different diets. The experiment is similar to the chicken one. Does feed type have an effect on the mass of pigs at the end of the experiment?\n",
    "</div>"
   ]
  },
  {
   "cell_type": "code",
   "execution_count": 22,
   "id": "329223b5-7da9-4716-96e9-3244f2bf9593",
   "metadata": {},
   "outputs": [],
   "source": [
    "# enter the mass at the end of the experiment\n",
    "feed_1 <- c(60.8, 57.0, 65.0, 58.6, 61.7)\n",
    "feed_2 <- c(68.7, 67.7, 74.0, 66.3, 69.8)\n",
    "feed_3 <- c(102.6, 102.1, 100.2, 96.5)\n",
    "feed_4 <- c(87.9, 84.2, 83.1, 85.7, 90.3)\n",
    "\n",
    "# make a dataframe\n",
    "bacon <- as_tibble(data.frame(\n",
    "  feed = c(\n",
    "  rep(\"Feed 1\", length(feed_1)),\n",
    "  rep(\"Feed 2\", length(feed_2)),\n",
    "  rep(\"Feed 3\", length(feed_3)),\n",
    "  rep(\"Feed 4\", length(feed_4))\n",
    "  ),\n",
    "  mass = c(feed_1, feed_2, feed_3, feed_4)\n",
    "  ))"
   ]
  },
  {
   "cell_type": "markdown",
   "id": "3c400e9e-8136-48ba-b528-4f1511455a95",
   "metadata": {},
   "source": [
    "<div class=\"alert alert-block alert-success\">\n",
    "<b>Exercise 2:</b> Construct suitable null and alternative hypotheses for the built-in `ToothGrowth` data, and test your hypotheses using an ANOVA.\n",
    "</div>"
   ]
  },
  {
   "cell_type": "code",
   "execution_count": 23,
   "id": "6e16f929-ada4-4314-9766-257131b978a5",
   "metadata": {},
   "outputs": [],
   "source": [
    "teeth <- datasets::ToothGrowth"
   ]
  },
  {
   "cell_type": "markdown",
   "id": "15cb6432-f779-4a95-b098-36292bee1838",
   "metadata": {},
   "source": [
    "<div class=\"alert alert-block alert-success\">\n",
    "<b>Exercise 3:</b> Find or generate your own data that lend themselves to being analysed by a two-way ANOVA. Generate suitable hypotheses about your data, and analyse it. Supplement your analysis by providing a suitable descriptive statistical summary and graph(s) of your data.\n",
    "</div>"
   ]
  }
 ],
 "metadata": {
  "kernelspec": {
   "display_name": "R",
   "language": "R",
   "name": "ir"
  },
  "language_info": {
   "codemirror_mode": "r",
   "file_extension": ".r",
   "mimetype": "text/x-r-source",
   "name": "R",
   "pygments_lexer": "r",
   "version": "4.1.3"
  }
 },
 "nbformat": 4,
 "nbformat_minor": 5
}
