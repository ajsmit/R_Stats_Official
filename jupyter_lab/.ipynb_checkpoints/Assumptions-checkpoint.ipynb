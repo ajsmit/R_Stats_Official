{
 "cells": [
  {
   "cell_type": "markdown",
   "id": "bd8f0c08-8189-4e99-a063-8c32b16f7658",
   "metadata": {},
   "source": [
    "**Author:** Prof. AJ Smit\n",
    "\n",
    "Department of Biodiversity and Conservation Biology\n",
    "\n",
    "University of the Western Cape\n",
    "\n",
    "# Assumptions\n",
    "\n",
    "![Paranormal](../Resources/paranormal_distributions.jpeg)\n",
    "\n",
    "Throughout the preceding sections I have stressed the importance of testing the assumptions underly- ing some statistical tests, in particular t-tests, ANOVAs, regressions, and correlations. These statistics are called parametric statistics and they require that the assumption of normality and homogeneity of vari- ances are met. This is the kind of statistic you would normally be required to calculate, and because they are commonly used, most people are familiar with parametric statistics. \n",
    "\n",
    "Let us recap---the most important assumptions that we need to make sure are met before doing *t*-tests, ANOVAs or linear regressions are:\n",
    "\n",
    "* The dependent variable must be continuous.\n",
    "* The data must be independent of each other.\n",
    "* The data most be normally distributed.\n",
    "* The data must be homoscedastic.\n",
    "\n",
    "For data conforming to this expectation, we say that the data are independent and identically distributed, or *i.i.d.* We will deal in particular with the the assumptions of normality and heteroscedasticity in this chapter. Whether or not the dependent data are continuous and independent comes down to proper experimental design, so if these are violated then... (I'll say no more).\n",
    "\n",
    "How do we know this? Here are your options, followed by a quick refresher:\n",
    "\n",
    "* Perform any of the diagnostic plots we covered in the earlier Chapters.\n",
    "* Compare the variances and see if they differ by more than a factor of four.\n",
    "* Do a Levene's test to test for equal variances.\n",
    "* Do a Shapiro-Wilk test for normality.\n",
    "\n",
    "However, when the data are not normal (i.e. skewed) or the variances are unequal — as sometimes happens — the resultant parametric test statistics cannot be used. When this happens, we have two options:\n",
    "\n",
    "* Apply the non-parametric equivalent for the statistical test in question. \n",
    "* Transform the data.\n",
    "\n",
    "It is the intention of this Chapter to discuss some options for checking the assumptions and to show some data transformations. But before we do that, please revise the non-parametric options available as replacements for the main parametric approaches as may be seen in our online textbook and the succinct summary presented in the Methods Cheatsheet.\n",
    "\n",
    "## Checking assumptions\n",
    "\n",
    "### Normality\n",
    "\n",
    "Before we begin, let's go ahead and activate our packages and load our data."
   ]
  },
  {
   "cell_type": "code",
   "execution_count": 1,
   "id": "c34dc3a4-d4f9-4410-b0eb-9d5ce2c29b6a",
   "metadata": {},
   "outputs": [],
   "source": [
    "suppressMessages(library(tidyverse))\n",
    "chicks <- as_tibble(ChickWeight)"
   ]
  },
  {
   "cell_type": "markdown",
   "id": "123aee04-d58f-4dd8-ac19-042f4744e615",
   "metadata": {},
   "source": [
    "The quickest method of testing the normality of a variable is with the Shapiro-Wilk normality test. This will return two values, a W score and a _p_-value. FOr the purposes of this course we may safely ignore the W score and focus on the _p_-value. When _p_ >= 0.05 we may assume that the data are normally distributed. If _p_ < 0.05 then the data are not normally distrubted. Let's look at all of the `chicks` data without filtering it:"
   ]
  },
  {
   "cell_type": "code",
   "execution_count": 2,
   "id": "cd0bc491-7102-4de0-bc43-fbd4ffb8dd2a",
   "metadata": {},
   "outputs": [
    {
     "data": {
      "text/plain": [
       "\n",
       "\tShapiro-Wilk normality test\n",
       "\n",
       "data:  chicks$weight\n",
       "W = 0.90866, p-value < 2.2e-16\n"
      ]
     },
     "metadata": {},
     "output_type": "display_data"
    }
   ],
   "source": [
    "shapiro.test(chicks$weight)"
   ]
  },
  {
   "cell_type": "markdown",
   "id": "a64551d8-a6e2-4ca5-a430-142fee1e436d",
   "metadata": {},
   "source": [
    "Are these data normally distributed? How do we know? Now let's filter the data based on the different diets for only the weights taken on the last day (21):"
   ]
  },
  {
   "cell_type": "code",
   "execution_count": 3,
   "id": "f31f1f14-2cbf-4f8d-8a02-7d17161bc2f1",
   "metadata": {},
   "outputs": [
    {
     "data": {
      "text/html": [
       "<table class=\"dataframe\">\n",
       "<caption>A tibble: 4 × 2</caption>\n",
       "<thead>\n",
       "\t<tr><th scope=col>Diet</th><th scope=col>norm_wt</th></tr>\n",
       "\t<tr><th scope=col>&lt;fct&gt;</th><th scope=col>&lt;dbl&gt;</th></tr>\n",
       "</thead>\n",
       "<tbody>\n",
       "\t<tr><td>1</td><td>0.5905451</td></tr>\n",
       "\t<tr><td>2</td><td>0.9487857</td></tr>\n",
       "\t<tr><td>3</td><td>0.8949919</td></tr>\n",
       "\t<tr><td>4</td><td>0.1855202</td></tr>\n",
       "</tbody>\n",
       "</table>\n"
      ],
      "text/latex": [
       "A tibble: 4 × 2\n",
       "\\begin{tabular}{ll}\n",
       " Diet & norm\\_wt\\\\\n",
       " <fct> & <dbl>\\\\\n",
       "\\hline\n",
       "\t 1 & 0.5905451\\\\\n",
       "\t 2 & 0.9487857\\\\\n",
       "\t 3 & 0.8949919\\\\\n",
       "\t 4 & 0.1855202\\\\\n",
       "\\end{tabular}\n"
      ],
      "text/markdown": [
       "\n",
       "A tibble: 4 × 2\n",
       "\n",
       "| Diet &lt;fct&gt; | norm_wt &lt;dbl&gt; |\n",
       "|---|---|\n",
       "| 1 | 0.5905451 |\n",
       "| 2 | 0.9487857 |\n",
       "| 3 | 0.8949919 |\n",
       "| 4 | 0.1855202 |\n",
       "\n"
      ],
      "text/plain": [
       "  Diet norm_wt  \n",
       "1 1    0.5905451\n",
       "2 2    0.9487857\n",
       "3 3    0.8949919\n",
       "4 4    0.1855202"
      ]
     },
     "metadata": {},
     "output_type": "display_data"
    }
   ],
   "source": [
    "chicks %>% \n",
    "  filter(Time == 21) %>% \n",
    "  group_by(Diet) %>% \n",
    "  summarise(norm_wt = as.numeric(shapiro.test(weight)[2]))"
   ]
  },
  {
   "cell_type": "markdown",
   "id": "3c40b118-13eb-4afb-ade2-56e2e26838cb",
   "metadata": {},
   "source": [
    "How about now?\n",
    "\n",
    "### Homoscedasticity\n",
    "\n",
    "Here we need no fancy test. We must simply calculate the variance of the variables we want to use and see that they are not more than 3-4 times greater than one another."
   ]
  },
  {
   "cell_type": "code",
   "execution_count": 5,
   "id": "eaf786ba-f0ae-49a7-be3f-01ce4f484975",
   "metadata": {},
   "outputs": [
    {
     "data": {
      "text/html": [
       "<table class=\"dataframe\">\n",
       "<caption>A tibble: 4 × 2</caption>\n",
       "<thead>\n",
       "\t<tr><th scope=col>Diet</th><th scope=col>var_wt</th></tr>\n",
       "\t<tr><th scope=col>&lt;fct&gt;</th><th scope=col>&lt;dbl&gt;</th></tr>\n",
       "</thead>\n",
       "<tbody>\n",
       "\t<tr><td>1</td><td>3445.933</td></tr>\n",
       "\t<tr><td>2</td><td>6105.567</td></tr>\n",
       "\t<tr><td>3</td><td>5129.789</td></tr>\n",
       "\t<tr><td>4</td><td>1879.028</td></tr>\n",
       "</tbody>\n",
       "</table>\n"
      ],
      "text/latex": [
       "A tibble: 4 × 2\n",
       "\\begin{tabular}{ll}\n",
       " Diet & var\\_wt\\\\\n",
       " <fct> & <dbl>\\\\\n",
       "\\hline\n",
       "\t 1 & 3445.933\\\\\n",
       "\t 2 & 6105.567\\\\\n",
       "\t 3 & 5129.789\\\\\n",
       "\t 4 & 1879.028\\\\\n",
       "\\end{tabular}\n"
      ],
      "text/markdown": [
       "\n",
       "A tibble: 4 × 2\n",
       "\n",
       "| Diet &lt;fct&gt; | var_wt &lt;dbl&gt; |\n",
       "|---|---|\n",
       "| 1 | 3445.933 |\n",
       "| 2 | 6105.567 |\n",
       "| 3 | 5129.789 |\n",
       "| 4 | 1879.028 |\n",
       "\n"
      ],
      "text/plain": [
       "  Diet var_wt  \n",
       "1 1    3445.933\n",
       "2 2    6105.567\n",
       "3 3    5129.789\n",
       "4 4    1879.028"
      ]
     },
     "metadata": {},
     "output_type": "display_data"
    }
   ],
   "source": [
    "chicks %>% \n",
    "  filter(Time == 21) %>% \n",
    "  group_by(Diet) %>% \n",
    "  summarise(var_wt = var(weight))"
   ]
  },
  {
   "cell_type": "markdown",
   "id": "a1da9b95-bb5b-4fcf-8d91-076b3cab660d",
   "metadata": {},
   "source": [
    "Well, do these data pass the two main assumptions?\n",
    "\n",
    "### Epic fail. Now what?\n",
    "\n",
    "After we have tested our data for the two key assumptions we are faced with a few choices. The basic guidelines below apply to paired tests, one- and two-sample tests, as well as one- and two-sided hypotheses (i.e. *t*-tests and their ilk):\n",
    "\n",
    "| Assumption | R function | Note |\n",
    "| --- | --- | --- |\n",
    "| Equal variances | `t.test(..., var.equal=TRUE)` | Student's *t*-test |\n",
    "| Unequal variances | `t.test(...)` | Using Welch's approximation of variances |\n",
    "| Normal data | `t.test(...)` | As per equal/unequal variance cases, above |\n",
    "| Data not normal | `wilcox.test(...)` | Wilcoxon (1-sample) or Mann-Whitney (2-sample) tests |\n",
    "\n",
    "When we compare two or more groups we usually do an ANOVA, and the same situation is true. For ANOVAs our options include (but are not limited to):\n",
    "\n",
    "| Assumption | R function | Note |\n",
    "| --- | --- | --- |\n",
    "| Normal data, equal variances | `aov(...)` | A vanilla analysis of variance |\n",
    "| Normal data, unequal variances | `oneway.test(...)` | Using Welch's approximation of variances, if needed, but robust if variances differ no more than 4-fold; could also stabilise variances using a square-root transformation; may also use `kruskal.test()` |\n",
    "| Data not normal (and/or non-normal) | `kruskal.test(...)` | Kruskal-Wallis rank sum test |\n",
    "\n",
    "See [this discussion](https://stats.stackexchange.com/questions/91872/alternatives-to-one-way-anova-for-heteroskedastic-data) if you would like to know about some more advanced options when faced with heteroscedastic data.\n",
    "\n",
    "I have also made [this](https://github.com/ajsmit/R_Stats_Official/blob/main/Resources/Methods_cheatsheet_v1.pdf) cheat sheet which summarises many options for non-parametric tests.\n",
    "\n",
    "Our tests for these two assumptions fail often with real data. Therefore, we must often identify the way in which our data are distributed (refert to Chapter 5) so we may better decide how to transform them in an attempt to coerce them into a format that will pass the assumptions."
   ]
  },
  {
   "cell_type": "markdown",
   "id": "f7b15783-d536-4de0-9b2f-39d61982f268",
   "metadata": {},
   "source": [
    "## Data transformations\n",
    "\n",
    "When transforming data, one does a mathematical operation on the observations and then use these transformed numbers in the statistical tests. After one as conducted the statistical analysis and calculated the mean ± SD (or ± 95% CI), these values are back transformed (i.e. by applying the reverse of the transformation function) to the original scale before being reported. Note that in back-transformed data the SD (or CI) are not necessarily symmetrical, so one cannot simply compute one (e.g. the upper) and then assumed the lower one would be the same distance away from the mean.\n",
    "\n",
    "When transforming data, it is a good idea to know a bit about how data within your field of study are usually transformed---try and use the same approach in your own work. Don't try all the various transformations until you find one that works, else it might seems as if you are trying to massage the data into an acceptable outcome. The effects of transformations are often difficult to see on the shape of data distributions, especially when you have few samples, so trust that what you are doing is correct. Unfortunately, as I said before, transforming data requires a bit of experience and knowledge with the subject matter, so read widely before you commit to one.\n",
    "\n",
    "Some of the texst below comes from [this discussion](http://fmwww.bc.edu/repec/bocode/t/transint.html) and from [John H. McDonald](http://www.biostathandbook.com/transformation.html). Below (i.e. the text on log transformation, square-root transformation, and arcsine transformation) I have extracted mostly verbatim the excellent text produced by John H MacDonald from his Handbook of Biological Statistics. Please attribute this text directly to him. I have made minor editorial changes to point towards some R code, but aside from that the text is more-or-less used verbatim. I strongly suggest reading the preceding text under his Data transformations section, as well as consulting the textbook for in-depth reading about biostatistics. Highly recommended!\n",
    "\n",
    "### Log transformation\n",
    "\n",
    "This consists of taking the log of each observation. You can use either base-10 logs (`log10(x)`) or base-e logs, also known as natural logs (`log(x)`). It makes no difference for a statistical test whether you use base-10 logs or natural logs, because they differ by a constant factor; the base- 10 log of a number is just 2.303...× the natural log of the number. You should specify which log you’re using when you write up the results, as it will affect things like the slope and intercept in a regression. I prefer base-10 logs, because it’s possible to look at them and see the magnitude of the original number: $log(1) = 0$, $log(10) = 1$, $log(100) = 2$, etc.\n",
    "\n",
    "The back transformation is to raise 10 or e to the power of the number; if the mean of your base-10 log-transformed data is 1.43, the back transformed mean is $10^{1.43} = 26.9$ (in R, `10^1.43`). If the mean of your base-e log-transformed data is 3.65, the back transformed mean is $e^{3.65} = 38.5$ (in R, `exp(3.65)`). If you have zeros or negative numbers, you can’t take the log; you should add a constant to each number to make them positive and non-zero (i.e. `log10(x) + 1)`. If you have count data, and some of the counts are zero, the convention is to add 0.5 to each number.\n",
    "\n",
    "Many variables in biology have log-normal distributions, meaning that after log-transformation, the values are normally distributed. This is because if you take a bunch of independent factors and multiply them together, the resulting product is log-normal. For example, let’s say you’ve planted a bunch of maple seeds, then 10 years later you see how tall the trees are. The height of an individual tree would be affected by the nitrogen in the soil, the amount of water, amount of sunlight, amount of insect damage, etc. Having more nitrogen might make a tree 10\n",
    "\n",
    "## Square-root transformation\n",
    "\n",
    "This consists of taking the square root of each observation. The back transformation is to square the number. If you have negative numbers, you can’t take the square root; you should add a constant to each number to make them all positive.\n",
    "\n",
    "People often use the square-root transformation when the variable is a count of something, such as bacterial colonies per petri dish, blood cells going through a capillary per minute, mutations per generation, etc.\n",
    "\n",
    "## Arcsine transformation\n",
    "This consists of taking the arcsine of the square root of a number (in R, `arcsin(sqrt(x))`). (The result is given in radians, not degrees, and can range from −π/2 to π/2.) The numbers to be arcsine transformed must be in the range 0 to 1. This is commonly used for proportions, which range\n",
    "from 0 to 1, [...] the back-transformation is to square the sine of the number (in R, `sin(x)^2`).\n",
    "\n",
    "## Other transformations\n",
    "\n",
    "These are by no means the only types of transformations available. Let us classify the above transforma- tions, and a few others, into categories of the types of corrective actions needed:\n",
    "\n",
    "### Slightly skewed data\n",
    "\n",
    "– `sqrt(x)` for positively skewed data\n",
    "\n",
    "– `sqrt(max(x+1) - x)` or `x^2` for negatively skewed data\n",
    "\n",
    "### Moderately skewed data\n",
    "\n",
    "– `log10(x)` for positively skewed data,\n",
    "\n",
    "– `log10(max(x + 1) - x)` or `x^3` for negatively skewed data\n",
    "\n",
    "### Severely skewed data\n",
    "\n",
    "– `1/x` for positively skewed data\n",
    "\n",
    "– `1/(max(x + 1) - x)` or higher powers than cubes for negatively skewed data\n",
    "\n",
    "### Deviations from linearity and heteroscedasticity\n",
    "\n",
    "– `log(x)` when the dependent variable starts to increase more and more rapidly with increasing independent variable values\n",
    "\n",
    "– `x^2` when the dependent variable values decrease more and more rapidly with increasing independent variable values\n",
    "\n",
    "– Regression models do not necessarily require data transformations to deal with heteroscedasticity. Generalised Linear Models (GLM) can be used with a variety of variance and error structures in the residuals via so-called link functions. Please consult the glm() function for details.\n",
    "\n",
    "– The linearity requirement specifically applies to linear regressions. However, regressions do not have to be linear. Some degree of curvature can be accommodated by additive (polynomial) models, which are like linear regressions, but with additional terms (you already have the knowledge you need to fit such models). More complex departures from linearity can be modelled by non-linear models (e.g. exponential, logistic, Michaelis-Menten, Gompertz, von Bertalanffy and their ilk) or Generalised Additive Models (GAM) — these more complex relation- ships will not be covered in this module. The gam() function in the mgcv package fits GAMs. After fitting these parametric or semi-parametric models to accommodate non-linear regressions, the residual error structure still does to meet the normality requirements, and these can be tested as before with simple linear regressions.\n",
    "\n",
    "Knowing how to successfully implement transformations can be as much art as science and requires a great deal of experience to get right. Due to the multitude of options I cannot offer comprehensive ex- amples to deal with all eventualities — so I will not provide any examples at all! I suggest reading widely on the internet or textbooks, and practising by yourselves on your own datasets."
   ]
  }
 ],
 "metadata": {
  "kernelspec": {
   "display_name": "R",
   "language": "R",
   "name": "ir"
  },
  "language_info": {
   "codemirror_mode": "r",
   "file_extension": ".r",
   "mimetype": "text/x-r-source",
   "name": "R",
   "pygments_lexer": "r",
   "version": "4.1.3"
  }
 },
 "nbformat": 4,
 "nbformat_minor": 5
}
