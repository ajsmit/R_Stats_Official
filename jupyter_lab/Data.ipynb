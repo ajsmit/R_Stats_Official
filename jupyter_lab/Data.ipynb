{
 "cells": [
  {
   "cell_type": "markdown",
   "id": "1c8d5735-c920-4d63-bd5e-276a693929d8",
   "metadata": {},
   "source": [
    "**Author:** Prof. AJ Smit\n",
    "\n",
    "Department of Biodiversity and Conservation Biology\n",
    "\n",
    "University of the Western Cape\n",
    "\n",
    "# Types of data\n",
    "\n",
    "<div class=\"alert alert-block alert-info\">\n",
    "\"The plural of anecdote is not data.\" --- Roger Brinner\n",
    "</div>\n",
    "\n",
    "In this chapter we will, firstly, look at the different kinds of biological and environmental data that are typically encountered by most biologists. The data seen here are not an exhaustive list of all the various types of data out there, but it should represent the bulk of our needs.\n",
    "\n",
    "After we have become familiar with the different kinds of data, we will look at summaries of these data, which is generally required as the starting point for our analyses. After summarising the data in tables and so forth, we may want to produce graphical summaries to see broad patterns and trends; visual data representations, which complement the tabulated data, will be covered in a later chapter (Chapter 4). Both of these approaches form the basis of 'exploratory data analysis.'\n",
    "\n",
    "## Data classes\n",
    "\n",
    "In biology we will encounter many kinds of data, and depending on which kind, the type of statistical analysis will be decided.\n",
    "\n",
    "### Numerical data\n",
    "\n",
    "Numerical data are quantitative in nature. They represent things that can be objectively counted, measured or claculated.\n",
    "\n",
    "#### Nominal (discrete) data\n",
    "\n",
    "Integer data (discrete numbers or whole numbers), such as counts. For example, family A may have 3 children and family B may have 1 child, neither may have 2.3 children. Integer data usually answer the question, \"how many?\" In R integer data are called `int` or `<int>`.\n",
    "\n",
    "#### Continuous data\n",
    "\n",
    "These usually represent measured 'things,' such as something's heat content (temperature, measured in degrees Celsius) or distance (measured in metres or similar), etc. They can be rational numbers including integers and fractions, but typically they have an infinite number of 'steps' that depends on rounding (they can even be rounded to whole integers) or considerations such as measurement precision and accuracy. Often, continuous data have upper and lower bounds that depend on the characteristics of the phenomenon being studied or the measurement being taken. In R, continuous data are denoted `num` or `<dbl>`.\n",
    "\n",
    "The kinds of summaries that lend themselves to continuous data are:\n",
    "\n",
    "-   Frequency distributions\n",
    "-   Relative frequency distributions\n",
    "-   Cumulative frequency distributions\n",
    "-   Bar graphs\n",
    "-   Box plots\n",
    "-   Scatter plots\n",
    "\n",
    "#### Dates\n",
    "\n",
    "Dates are a special class of continuous data, and there are many different representations of the date classes. This is a complex group of data, and we will not cover much of it in this course.\n",
    "\n",
    "### Qualitative data\n",
    "\n",
    "Qualitative data may be well-defined categories or they may be subjective, and generally include descriptive words for classes (e.g. mineral, animal , plant) or rankings (e.g. good, better, best).\n",
    "\n",
    "#### Categorical data\n",
    "\n",
    "Because there are categories, the number of members belonging to each of the categories can be counted. For example, there are three red flowers, 66 purple flowers, and 13 yellow flowers. The categories cannot be ranked relative to each other; in the example just provided, for instance, no value judgement can be assigned to the different colours. It is not better to be red than it is to be purple. There are just fewer red flowers than purple ones. Contrast this to another kind of categorical data called 'ordinal data' (see next). This class of data in an R dataframe (or in a 'tibble') is indicated by `Factor` or `<fctr>`.\n",
    "\n",
    "The kinds of summaries that lend themselves to categorical data are:\n",
    "\n",
    "-   Frequency distributions\n",
    "-   Relative frequency distributions\n",
    "-   Bar graphs\n",
    "-   Pie graphs (!!!)\n",
    "-   Category statistics\n",
    "\n",
    "#### Ordinal data\n",
    "\n",
    "This is a type of categorical data where the classes are ordered (a synonym is \"ranked\"), typically from low to high (or *vice versa*), but where the magnitude between the ordered classes cannot be precisely measured or quantified. In other words, the difference between them is somewhat subjective (i.e. it is qualitative rather than quantitative). These data are on an ordinal scale. The data may be entered as descriptive character strings (i.e. as words), or they may have been translated to an ordered vector of integers; for example, \"1\" for terrible, \"2\" for so-so, \"3\" for average, \"4\" for good and \"5\" for brilliant. Irrespective of how the data are present in the dataframe, computationally (for some calculations) they are treated as an ordered sequence of integers, but they are simultaneously treated as categories (say, where the number of responses that report \"so-so\" can be counted). Ordinal data usually answer questions such as, \"how many categories can the phenomenon be divided into, and how does each category rank with respect to the others?\" Columns containing this kind of data are named `Ord.factor` or `<ord>`.\n",
    "\n",
    "### Binary data\n",
    "\n",
    "Right or wrong? True or false? Accept or reject? Black or white? Positive or negative? Good or bad? You get the idea... In other words, these are observations or responses that can take only one of two mutually exclusive outcomes. In R these are treated as 'Logical' data that take the values of `TRUE` or `FALSE` (note the case). In R, and computing generally, logical data are often denoted with 1 for `TRUE` and 0 for `FALSE`. This class of data is indicated by `logi` or `<lgl>`.\n",
    "\n",
    "### Character values\n",
    "\n",
    "As the name implies, these are not numbers. Rather, they are human words that have found their way into R for one reason or another. In biology we most commonly encounter character values when we have a list of things, such as sites or species. These values will often be used as categorical or ordinal data.\n",
    "\n",
    "### Missing values\n",
    "\n",
    "Unfortunately, one of the most reliable aspects of any biological dataset is that it will contain some missing data. But how can something contain missing data? One could be forgiven for assuming that if the data are missing, then they obviously aren't contained in the dataset. To better understand this concept we must think back to the principles of tidy data. Every observation must be in a row, and every column in that row must contain a value. The combination of multiple observations then makes up our matrix of data. Because data are therefore presented in a two-dimensional format, any missing values from an observation will need to have an empty place-holder to ensure the consistency of the matrix. These are what we are referring to when we speak of \"missing values\". In R these appear as a `NA` in a dataframe and are slighlty lighter than the other values. These data are indicated in the Environment as `NA` and if a column contains only missing values it will be denoted as `<NA>`.\n",
    "\n",
    "### Complex numbers\n",
    "\n",
    "<div class=\"alert alert-block alert-info\">\n",
    "\"And if you gaze long enough into an abyss, the abyss will gaze back into you.\" --- Friedrich Nietzsche\n",
    "</div>\n",
    "\n",
    "In an attempt to allow the shreds of our sanity to remain stitched together we will end here with data types. But be warned, ye who enter, that below countless rocks, and around a legion of corners, lay in wait a myriad of complex data types. We will encounter many of these at the end of this course when we encounter modeling, but by then we will have learned a few techniques that will prepare us for the encounter.\n",
    "\n",
    "## Viewing our data\n",
    "\n",
    "There are many ways of finding broad views of our data in R. The first few functions that we will look at were designed to simply scrutinise the contents of the tibbles, which is the 'tidyverse' name for the general 'container' that holds our data in the software's environment (i.e. in a block of the computer's memory dedicated to the R software). Whatever data are in R's environment will be seen in the 'Environment' tab in the top right of RStudio's four panes.\n",
    "\n",
    "### From the Environment pane\n",
    "\n",
    "The first way to see what's in the tibble is not really a function at all, but a convenient (and lazy) way of quickly seeing a few basic things about our data. Let us look at the `ChickWeight` data. Load it like so (you'll remember from the Intro R Workshop):"
   ]
  },
  {
   "cell_type": "code",
   "execution_count": 1,
   "id": "2c2f3c97-0a76-48ec-8a04-e0292c5c07c0",
   "metadata": {},
   "outputs": [],
   "source": [
    "suppressMessages(library(tidyverse))\n",
    "# the 'ChickWeight' data are built into R;\n",
    "# here we assign it as a tibble to an object named 'chicks'\n",
    "chicks <- as_tibble(ChickWeight)"
   ]
  },
  {
   "cell_type": "markdown",
   "id": "809555e2-58c2-4074-8b74-154fe4b69314",
   "metadata": {},
   "source": [
    "In the Environment pane, the object named `chicks` will now appear under the panel named Data. To the left of it is a small white arrow in a blue circular background. By default the arrow points to the right. Clicking on it causes it to point down, which denotes that the data contained within the tibble have become expanded. The names of the columns (more correctly called 'variables') can now be seen. There you can see the variables `weight`, `Time`, `Chick` and `Diet`. The class of data they represent can be seen too: there's continuous data of class `num`, a variable of `Ord.factor`, and a categorical variable of class `Factor`. Beneath these there's a lot of attributes that denote some meta-data, which you may safely ignore for now."
   ]
  },
  {
   "cell_type": "markdown",
   "id": "e3b8716d-6eb9-4da6-9cd3-33a4f9d0bf74",
   "metadata": {},
   "source": [
    "### `head()` and `tail()`\n",
    "\n",
    "The `head()` and `tail()` functions simply display top and bottom portions of the tibble, and you may add the `n` argument and an integer to request that only a certain number of rows are returned; by default the top or bottom six rows are displayed.\n",
    "\n",
    "There are various bits of additional information printed out. The display will change somewhat if there are many more variables than that which can comfortably fit within the width of the output window (typically the Console). The same kinds of information as was returned with the Environment pane expansion arrow are displayed, but the data class is now accompanied by an angle bracket (i.e. `<...>`) notation. For example, `num` in the Environment pane and `<dbl>` as per the `head()` or `tail()` methods are exactly the same: both denote continuous (or 'double precision') data."
   ]
  },
  {
   "cell_type": "code",
   "execution_count": 2,
   "id": "26a9376a-432d-4e4c-b071-8b3816558149",
   "metadata": {},
   "outputs": [
    {
     "data": {
      "text/html": [
       "<table class=\"dataframe\">\n",
       "<caption>A tibble: 6 × 4</caption>\n",
       "<thead>\n",
       "\t<tr><th scope=col>weight</th><th scope=col>Time</th><th scope=col>Chick</th><th scope=col>Diet</th></tr>\n",
       "\t<tr><th scope=col>&lt;dbl&gt;</th><th scope=col>&lt;dbl&gt;</th><th scope=col>&lt;ord&gt;</th><th scope=col>&lt;fct&gt;</th></tr>\n",
       "</thead>\n",
       "<tbody>\n",
       "\t<tr><td>42</td><td> 0</td><td>1</td><td>1</td></tr>\n",
       "\t<tr><td>51</td><td> 2</td><td>1</td><td>1</td></tr>\n",
       "\t<tr><td>59</td><td> 4</td><td>1</td><td>1</td></tr>\n",
       "\t<tr><td>64</td><td> 6</td><td>1</td><td>1</td></tr>\n",
       "\t<tr><td>76</td><td> 8</td><td>1</td><td>1</td></tr>\n",
       "\t<tr><td>93</td><td>10</td><td>1</td><td>1</td></tr>\n",
       "</tbody>\n",
       "</table>\n"
      ],
      "text/latex": [
       "A tibble: 6 × 4\n",
       "\\begin{tabular}{llll}\n",
       " weight & Time & Chick & Diet\\\\\n",
       " <dbl> & <dbl> & <ord> & <fct>\\\\\n",
       "\\hline\n",
       "\t 42 &  0 & 1 & 1\\\\\n",
       "\t 51 &  2 & 1 & 1\\\\\n",
       "\t 59 &  4 & 1 & 1\\\\\n",
       "\t 64 &  6 & 1 & 1\\\\\n",
       "\t 76 &  8 & 1 & 1\\\\\n",
       "\t 93 & 10 & 1 & 1\\\\\n",
       "\\end{tabular}\n"
      ],
      "text/markdown": [
       "\n",
       "A tibble: 6 × 4\n",
       "\n",
       "| weight &lt;dbl&gt; | Time &lt;dbl&gt; | Chick &lt;ord&gt; | Diet &lt;fct&gt; |\n",
       "|---|---|---|---|\n",
       "| 42 |  0 | 1 | 1 |\n",
       "| 51 |  2 | 1 | 1 |\n",
       "| 59 |  4 | 1 | 1 |\n",
       "| 64 |  6 | 1 | 1 |\n",
       "| 76 |  8 | 1 | 1 |\n",
       "| 93 | 10 | 1 | 1 |\n",
       "\n"
      ],
      "text/plain": [
       "  weight Time Chick Diet\n",
       "1 42      0   1     1   \n",
       "2 51      2   1     1   \n",
       "3 59      4   1     1   \n",
       "4 64      6   1     1   \n",
       "5 76      8   1     1   \n",
       "6 93     10   1     1   "
      ]
     },
     "metadata": {},
     "output_type": "display_data"
    },
    {
     "data": {
      "text/html": [
       "<table class=\"dataframe\">\n",
       "<caption>A tibble: 2 × 4</caption>\n",
       "<thead>\n",
       "\t<tr><th scope=col>weight</th><th scope=col>Time</th><th scope=col>Chick</th><th scope=col>Diet</th></tr>\n",
       "\t<tr><th scope=col>&lt;dbl&gt;</th><th scope=col>&lt;dbl&gt;</th><th scope=col>&lt;ord&gt;</th><th scope=col>&lt;fct&gt;</th></tr>\n",
       "</thead>\n",
       "<tbody>\n",
       "\t<tr><td>264</td><td>20</td><td>50</td><td>4</td></tr>\n",
       "\t<tr><td>264</td><td>21</td><td>50</td><td>4</td></tr>\n",
       "</tbody>\n",
       "</table>\n"
      ],
      "text/latex": [
       "A tibble: 2 × 4\n",
       "\\begin{tabular}{llll}\n",
       " weight & Time & Chick & Diet\\\\\n",
       " <dbl> & <dbl> & <ord> & <fct>\\\\\n",
       "\\hline\n",
       "\t 264 & 20 & 50 & 4\\\\\n",
       "\t 264 & 21 & 50 & 4\\\\\n",
       "\\end{tabular}\n"
      ],
      "text/markdown": [
       "\n",
       "A tibble: 2 × 4\n",
       "\n",
       "| weight &lt;dbl&gt; | Time &lt;dbl&gt; | Chick &lt;ord&gt; | Diet &lt;fct&gt; |\n",
       "|---|---|---|---|\n",
       "| 264 | 20 | 50 | 4 |\n",
       "| 264 | 21 | 50 | 4 |\n",
       "\n"
      ],
      "text/plain": [
       "  weight Time Chick Diet\n",
       "1 264    20   50    4   \n",
       "2 264    21   50    4   "
      ]
     },
     "metadata": {},
     "output_type": "display_data"
    }
   ],
   "source": [
    "head(chicks)\n",
    "tail(chicks, n = 2)"
   ]
  },
  {
   "cell_type": "markdown",
   "id": "bbb0c105-b2d2-4529-9563-6bb2b4b7011b",
   "metadata": {},
   "source": [
    "As an alternative to `head()`, you may also simply type the name of the object (here `chicks`) in the Console (or write it in the Source Editor if it is necessary to retain the function for future use) and the top portion of the tibble will be displayed, again trimmed to account for the width of the display.\n",
    "\n",
    "### `colnames()`\n",
    "\n",
    "This function simply returns a listing of the variable (column) names."
   ]
  },
  {
   "cell_type": "code",
   "execution_count": 3,
   "id": "e891ca44-01f7-4042-83b1-46f9a9a1efeb",
   "metadata": {},
   "outputs": [
    {
     "data": {
      "text/html": [
       "<style>\n",
       ".list-inline {list-style: none; margin:0; padding: 0}\n",
       ".list-inline>li {display: inline-block}\n",
       ".list-inline>li:not(:last-child)::after {content: \"\\00b7\"; padding: 0 .5ex}\n",
       "</style>\n",
       "<ol class=list-inline><li>'weight'</li><li>'Time'</li><li>'Chick'</li><li>'Diet'</li></ol>\n"
      ],
      "text/latex": [
       "\\begin{enumerate*}\n",
       "\\item 'weight'\n",
       "\\item 'Time'\n",
       "\\item 'Chick'\n",
       "\\item 'Diet'\n",
       "\\end{enumerate*}\n"
      ],
      "text/markdown": [
       "1. 'weight'\n",
       "2. 'Time'\n",
       "3. 'Chick'\n",
       "4. 'Diet'\n",
       "\n",
       "\n"
      ],
      "text/plain": [
       "[1] \"weight\" \"Time\"   \"Chick\"  \"Diet\"  "
      ]
     },
     "metadata": {},
     "output_type": "display_data"
    }
   ],
   "source": [
    "colnames(chicks)"
   ]
  },
  {
   "cell_type": "markdown",
   "id": "f3b3f340-6ca0-44cd-a7d8-953acd4b1f3f",
   "metadata": {},
   "source": [
    "There is an equivalent function called `rownames()` that may be used to show the names of rows in your tibble, if these are present. Row names are generally discouraged, and we will refrain from using them here.\n",
    "\n",
    "### `summary()`\n",
    "\n",
    "The next way to see the contents of the tibble is to apply the `summary()` function. Here we see something else. Some descriptive statistics that describe properties of the full set of data are now visible. These summary statistics condense each of the variables into numbers that describe some properties of the data within each column. You will already know the concepts of the 'minimum,' 'median,' 'mean,' and 'maximum.' These are displayed here."
   ]
  },
  {
   "cell_type": "code",
   "execution_count": 4,
   "id": "4b416205-a35f-4a32-acd5-e514d636a059",
   "metadata": {},
   "outputs": [
    {
     "data": {
      "text/plain": [
       "     weight           Time           Chick     Diet   \n",
       " Min.   : 35.0   Min.   : 0.00   13     : 12   1:220  \n",
       " 1st Qu.: 63.0   1st Qu.: 4.00   9      : 12   2:120  \n",
       " Median :103.0   Median :10.00   20     : 12   3:120  \n",
       " Mean   :121.8   Mean   :10.72   10     : 12   4:118  \n",
       " 3rd Qu.:163.8   3rd Qu.:16.00   17     : 12          \n",
       " Max.   :373.0   Max.   :21.00   19     : 12          \n",
       "                                 (Other):506          "
      ]
     },
     "metadata": {},
     "output_type": "display_data"
    }
   ],
   "source": [
    "summary(chicks)"
   ]
  },
  {
   "cell_type": "markdown",
   "id": "b2b355bb-82b8-49ca-bb3d-dfda41eda334",
   "metadata": {},
   "source": [
    "This will serve well as an introduction to the next chapter, which is about descriptive statistics. What are they, and how do we calculate them?\n",
    "\n",
    "## Task\n",
    "\n",
    "<div class=\"alert alert-block alert-success\">\n",
    "    <b>Task:</b> Please find a few more ways in which one can scrutinise our data within R and/or RStudio.\n",
    "</div>    "
   ]
  }
 ],
 "metadata": {
  "kernelspec": {
   "display_name": "R",
   "language": "R",
   "name": "ir"
  },
  "language_info": {
   "codemirror_mode": "r",
   "file_extension": ".r",
   "mimetype": "text/x-r-source",
   "name": "R",
   "pygments_lexer": "r",
   "version": "4.1.3"
  }
 },
 "nbformat": 4,
 "nbformat_minor": 5
}
