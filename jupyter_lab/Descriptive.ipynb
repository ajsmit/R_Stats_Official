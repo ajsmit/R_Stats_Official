{
 "cells": [
  {
   "cell_type": "markdown",
   "id": "88828a74-efbf-40e5-bcd0-2a9ee26dc82b",
   "metadata": {},
   "source": [
    "**Author:** Prof. AJ Smit\n",
    "\n",
    "Department of Biodiversity and Conservation Biology\n",
    "\n",
    "University of the Western Cape\n",
    "\n",
    "# Descriptive statistics: central tendency and dispersion\n",
    "\n",
    "<div class=\"alert alert-block alert-info\">\n",
    "\"I think it is much more interesting to live with uncertainty than to live with answers that might be wrong.\" --- Richard Feynman\n",
    "</div>\n",
    "\n",
    "In this Chapter we will focus on basic descriptions of the data, and these initial forrays are built around measures of the central tendency of the data (the mean, median, mode) and the dispersion and variability of the data (standard deviations and their ilk). The materials covered in this and the next two chapters concern a broad discussion that will aid us in understanding our data better prior to analysing it, and before we can draw inference from it. In this work flow it emerges that descriptive statistics generally precede inferential statistics.\n",
    "\n",
    "Let us now turn to some of the most commonly used descriptive statistics, and learn about how to calculate them.\n",
    "\n",
    "## Samples and populations\n",
    "\n",
    "This is a simple toy example. In real life, however, our data will be available in a tibble (initially perhaps captured in MS Excel before importing it as a `.csv` file into R, where the tibble is created). To see how this can be done more realistically using actual data, let us turn to the ChickenWeight data, which, as before, we place in the object `chicks`. Recall the pipe operator (`%>%`, pronounced 'then') that we introduced in the Intro R Workshop---we will use that here, throughout. Let us calculate the sample size:\n",
    "\n",
    "To determine the sample size we can use the `length()` or `n()` functions; the latter is for use within **dplyr**'s `summarise()` method, and it is applied without writing anything inside of the `()`, like this:"
   ]
  },
  {
   "cell_type": "code",
   "execution_count": 1,
   "id": "e54a04a4-1baf-4094-ad05-5a3dc9fd10e5",
   "metadata": {},
   "outputs": [
    {
     "data": {
      "text/html": [
       "<table class=\"dataframe\">\n",
       "<caption>A tibble: 1 × 1</caption>\n",
       "<thead>\n",
       "\t<tr><th scope=col>length</th></tr>\n",
       "\t<tr><th scope=col>&lt;int&gt;</th></tr>\n",
       "</thead>\n",
       "<tbody>\n",
       "\t<tr><td>578</td></tr>\n",
       "</tbody>\n",
       "</table>\n"
      ],
      "text/latex": [
       "A tibble: 1 × 1\n",
       "\\begin{tabular}{l}\n",
       " length\\\\\n",
       " <int>\\\\\n",
       "\\hline\n",
       "\t 578\\\\\n",
       "\\end{tabular}\n"
      ],
      "text/markdown": [
       "\n",
       "A tibble: 1 × 1\n",
       "\n",
       "| length &lt;int&gt; |\n",
       "|---|\n",
       "| 578 |\n",
       "\n"
      ],
      "text/plain": [
       "  length\n",
       "1 578   "
      ]
     },
     "metadata": {},
     "output_type": "display_data"
    },
    {
     "data": {
      "text/html": [
       "578"
      ],
      "text/latex": [
       "578"
      ],
      "text/markdown": [
       "578"
      ],
      "text/plain": [
       "[1] 578"
      ]
     },
     "metadata": {},
     "output_type": "display_data"
    }
   ],
   "source": [
    "# first load the tidyverse packages that has the pipe operator, %>%\n",
    "suppressMessages(library(tidyverse))\n",
    "chicks <- as_tibble(ChickWeight)\n",
    "\n",
    "# how many weights are available across all Diets and Times?\n",
    "chicks %>% \n",
    "  summarise(length = n())\n",
    "\n",
    "# the same as\n",
    "length(chicks$weight)"
   ]
  },
  {
   "cell_type": "markdown",
   "id": "2c8811ab-3262-4689-92d7-8717c4b7da09",
   "metadata": {},
   "source": [
    "Note that this gives us the number of all of the chicks in the experiment, irrespective oif which diet they were given. It will make more sense to know how many chicks were assigned to each of the experimental diets they were raised on. \n",
    "\n",
    "<div class=\"alert alert-block alert-success\">\n",
    "    <b>Task:</b> Figure out the number of chicks in each of the feed categories.\n",
    "</div>"
   ]
  },
  {
   "cell_type": "markdown",
   "id": "9f83d534-b42f-460a-ad1a-1526cc4a6aa6",
   "metadata": {},
   "source": [
    "## Measures of central tendency\n",
    "\n",
    "Table: Measures of central tendency.\n",
    "\n",
    "| Statistic | Function | Package\n",
    "| --- | --- | --- |\n",
    "| Mean | `mean()` | **base** |\n",
    "| Median | `median()` | **base** |\n",
    "| Skewness | `skewness()` | **e1071** |\n",
    "| Kurtosis | `kurtosis()` | **e1071** |\n",
    "\n",
    "The measures of central tendency are also sometimes called 'location' statistics. We have already seen summaries of the mean and the median when we called to `summary()` function on the `chicks` data in Chapter 2. Here we shall show you how they can be calculated using some built-in R functions.\n",
    "\n",
    "### The mean\n",
    "\n",
    "The sample *mean* is the arithmetic average of the data, and it is calculated by summing all the data and dividing it by the sample size, *n*. The mean, $\\bar{x}$, is calculated thus:\n",
    "\n",
    "$$\\bar{x} = \\frac{1}{n}\\sum_{i=1}^{n}x_{i} = \\frac{x_{1} + x_{2} + \\cdots + x_{n}}{n}$$\n",
    "\n",
    "where $x_{1} + x_{2} + \\cdots + x_{n}$ are the observations and $n$ is the number of observations in the sample.\n",
    "\n",
    "In R one can quickly apply the `mean()` function to some data. Let us create a vector of arbitrary numbers using the 'combine' function, `c()`, and then apply the function for the mean:"
   ]
  },
  {
   "cell_type": "code",
   "execution_count": 3,
   "id": "57449bd1-976b-449d-bb6b-404f88ed459f",
   "metadata": {},
   "outputs": [
    {
     "data": {
      "text/html": [
       "34"
      ],
      "text/latex": [
       "34"
      ],
      "text/markdown": [
       "34"
      ],
      "text/plain": [
       "[1] 34"
      ]
     },
     "metadata": {},
     "output_type": "display_data"
    }
   ],
   "source": [
    "# combine a series of numbers into a vector;\n",
    "# hint: use this function in the exercises that we will require from you\n",
    "# later on...\n",
    "dat1 <- c(23, 45, 23, 66, 13)\n",
    "mean(dat1)"
   ]
  },
  {
   "cell_type": "markdown",
   "id": "2ab32e22-b2d1-4f48-ab56-bfcc7b47e42b",
   "metadata": {},
   "source": [
    "Below, we use another tidyverse package, **`dplyr`** and its `summarise()` function, whose purpose it is to *summarise* the entire column into one summary statistic, in this case the mean:"
   ]
  },
  {
   "cell_type": "code",
   "execution_count": 4,
   "id": "b13c05bf-c5b5-444c-be7d-75d70ded6258",
   "metadata": {},
   "outputs": [
    {
     "data": {
      "text/html": [
       "<table class=\"dataframe\">\n",
       "<caption>A tibble: 1 × 1</caption>\n",
       "<thead>\n",
       "\t<tr><th scope=col>mean_wt</th></tr>\n",
       "\t<tr><th scope=col>&lt;dbl&gt;</th></tr>\n",
       "</thead>\n",
       "<tbody>\n",
       "\t<tr><td>121.8183</td></tr>\n",
       "</tbody>\n",
       "</table>\n"
      ],
      "text/latex": [
       "A tibble: 1 × 1\n",
       "\\begin{tabular}{l}\n",
       " mean\\_wt\\\\\n",
       " <dbl>\\\\\n",
       "\\hline\n",
       "\t 121.8183\\\\\n",
       "\\end{tabular}\n"
      ],
      "text/markdown": [
       "\n",
       "A tibble: 1 × 1\n",
       "\n",
       "| mean_wt &lt;dbl&gt; |\n",
       "|---|\n",
       "| 121.8183 |\n",
       "\n"
      ],
      "text/plain": [
       "  mean_wt \n",
       "1 121.8183"
      ]
     },
     "metadata": {},
     "output_type": "display_data"
    }
   ],
   "source": [
    "chicks %>% \n",
    "  summarise(mean_wt = mean(weight))"
   ]
  },
  {
   "cell_type": "markdown",
   "id": "fc96d1a0-ba0b-47ec-a1a4-55e9dfabf3a6",
   "metadata": {},
   "source": [
    "<div class=\"alert alert-block alert-success\">\n",
    "<b>Task:</b> How would you manually calculate the mean mass for the chicks? Do it now!\n",
    "</div>\n",
    "    \n",
    "Notice above how the two approaches display the result differently: in the first instance, using `summarise()`, the answer is rounded to zero decimal places; in the second, it is displayed (here) at full precision. The precision of the answer that you require depends on the context of your study, so make sure that you use the appropriate number of significant digits. Using the `summarise()` approach again, here is how you can adjust the number of decimal places of the answer:"
   ]
  },
  {
   "cell_type": "code",
   "execution_count": 5,
   "id": "786151bd-8d17-4c08-a889-65b2bf81bf9b",
   "metadata": {},
   "outputs": [
    {
     "data": {
      "text/html": [
       "<table class=\"dataframe\">\n",
       "<caption>A tibble: 1 × 1</caption>\n",
       "<thead>\n",
       "\t<tr><th scope=col>mean_wt</th></tr>\n",
       "\t<tr><th scope=col>&lt;dbl&gt;</th></tr>\n",
       "</thead>\n",
       "<tbody>\n",
       "\t<tr><td>121.8</td></tr>\n",
       "</tbody>\n",
       "</table>\n"
      ],
      "text/latex": [
       "A tibble: 1 × 1\n",
       "\\begin{tabular}{l}\n",
       " mean\\_wt\\\\\n",
       " <dbl>\\\\\n",
       "\\hline\n",
       "\t 121.8\\\\\n",
       "\\end{tabular}\n"
      ],
      "text/markdown": [
       "\n",
       "A tibble: 1 × 1\n",
       "\n",
       "| mean_wt &lt;dbl&gt; |\n",
       "|---|\n",
       "| 121.8 |\n",
       "\n"
      ],
      "text/plain": [
       "  mean_wt\n",
       "1 121.8  "
      ]
     },
     "metadata": {},
     "output_type": "display_data"
    }
   ],
   "source": [
    "# the value printed in the HTML/PDF versions is incorrect;\n",
    "# check in the console for correct output\n",
    "chicks %>% \n",
    "  summarise(mean_wt = round(mean(weight), 1))"
   ]
  },
  {
   "cell_type": "markdown",
   "id": "245c0df9-7f8b-42b2-aac5-0287bd35c92b",
   "metadata": {},
   "source": [
    "<div class=\"alert alert-block alert-success\">\n",
    "<b>Task:</b> What happens when there are missing values (`NA`)? Consult the help file for the `mean()` function, discuss amongst yourselves, and then provide a demonstration to the class of how you would handle missing values. Hint: use the `c()` function to capture a series of data that you can then use to demonstrate your understanding.\n",
    "</div>\n",
    "    \n",
    "At this point it might be useful to point out that the mean (or any function for that matter, even one that does not yet exist) can be programatically calculated. Let us demonstrate the principle by reproducing the mean function from the constituent parts:"
   ]
  },
  {
   "cell_type": "code",
   "execution_count": 6,
   "id": "3b7eb4b9-bfe1-4622-a816-98f64cbe84ed",
   "metadata": {},
   "outputs": [
    {
     "data": {
      "text/html": [
       "<table class=\"dataframe\">\n",
       "<caption>A tibble: 1 × 1</caption>\n",
       "<thead>\n",
       "\t<tr><th scope=col>mean_wt</th></tr>\n",
       "\t<tr><th scope=col>&lt;dbl&gt;</th></tr>\n",
       "</thead>\n",
       "<tbody>\n",
       "\t<tr><td>121.8183</td></tr>\n",
       "</tbody>\n",
       "</table>\n"
      ],
      "text/latex": [
       "A tibble: 1 × 1\n",
       "\\begin{tabular}{l}\n",
       " mean\\_wt\\\\\n",
       " <dbl>\\\\\n",
       "\\hline\n",
       "\t 121.8183\\\\\n",
       "\\end{tabular}\n"
      ],
      "text/markdown": [
       "\n",
       "A tibble: 1 × 1\n",
       "\n",
       "| mean_wt &lt;dbl&gt; |\n",
       "|---|\n",
       "| 121.8183 |\n",
       "\n"
      ],
      "text/plain": [
       "  mean_wt \n",
       "1 121.8183"
      ]
     },
     "metadata": {},
     "output_type": "display_data"
    }
   ],
   "source": [
    "chicks %>% \n",
    "  summarise(mean_wt = sum(weight) / n())"
   ]
  },
  {
   "cell_type": "markdown",
   "id": "44f77bd1-d77d-48d3-8c13-a98fe4003e92",
   "metadata": {},
   "source": [
    "The mean is quite sensitive to the presence of outliers or extreme values in the data, and it is advised that its use be reserved for normally distributed data from which the extremes/outliers have been removed. When extreme values are indeed part of our data and not simply 'noise,' then we have to resort to a different measure of central tendency: the median.\n",
    "\n",
    "<div class=\"alert alert-block alert-success\">\n",
    "    <b>Task:</b> In statistics, what do we mean with 'noise'?\n",
    "</div>\n",
    "\n",
    "### The median\n",
    "\n",
    "The *median* can be calculated by 'hand' (if you have a small enough amount of data) by arranging all the numbers in sequence from low to high, and then finding the middle value. If there are five numbers, say `5, 2, 6, 13, 1`, then you would arrange them from low to high, i.e. `1, 2, 5, 6, 13`. The middle number is `5`. This is the median. But there is no middle if we have an even number of values. What now? Take this example sequence of six integers (they may also be floating point numbers), which has already been ordered for your pleasure: `1, 2, 5, 6, 9, 13`. Find the middle two numbers (i.e. `5, 6`) and take the mean. It is `5.5`. That is the median. \n",
    "\n",
    "Let us find the median for the weights of the chickens in the ChickWeight data:"
   ]
  },
  {
   "cell_type": "code",
   "execution_count": 7,
   "id": "e609e8b7-30f2-419c-b8fc-33105b80668b",
   "metadata": {},
   "outputs": [
    {
     "data": {
      "text/html": [
       "<table class=\"dataframe\">\n",
       "<caption>A tibble: 1 × 1</caption>\n",
       "<thead>\n",
       "\t<tr><th scope=col>med_wt</th></tr>\n",
       "\t<tr><th scope=col>&lt;dbl&gt;</th></tr>\n",
       "</thead>\n",
       "<tbody>\n",
       "\t<tr><td>103</td></tr>\n",
       "</tbody>\n",
       "</table>\n"
      ],
      "text/latex": [
       "A tibble: 1 × 1\n",
       "\\begin{tabular}{l}\n",
       " med\\_wt\\\\\n",
       " <dbl>\\\\\n",
       "\\hline\n",
       "\t 103\\\\\n",
       "\\end{tabular}\n"
      ],
      "text/markdown": [
       "\n",
       "A tibble: 1 × 1\n",
       "\n",
       "| med_wt &lt;dbl&gt; |\n",
       "|---|\n",
       "| 103 |\n",
       "\n"
      ],
      "text/plain": [
       "  med_wt\n",
       "1 103   "
      ]
     },
     "metadata": {},
     "output_type": "display_data"
    }
   ],
   "source": [
    "chicks %>% \n",
    "  summarise(med_wt = median(weight))"
   ]
  },
  {
   "cell_type": "markdown",
   "id": "9655d551-202f-4959-b532-7a80cd98e33d",
   "metadata": {},
   "source": [
    "The median is therefore the value that separates the lower half of the sample data from the upper half. In normally distributed continuous data the median is equal to the mean. Comparable concepts to the median are the *1st* and *3rd quartiles*, which, respectively, separate the first quarter of the data from the last quarter---see later. The advantage of the median over the mean is that it is unaffected (i.e. not skewed) by extreme values or outliers, and it gives an idea of the typical value of the sample. The median is also used to provide a robust description of non-parametric data (see Chapter 4 for a discussion on normal data and other data distributions).\n",
    "\n",
    "### Skewness\n",
    "\n",
    "Skewness is a measure of symmetry, and it is best understood by understanding the location of the median relative to the mean. A negative skewness indicates that the mean of the data is less than their median---the data distribution is left-skewed. A positive skewness results from data that have a mean that is larger than their median; these data have a right-skewed distribution."
   ]
  },
  {
   "cell_type": "code",
   "execution_count": 8,
   "id": "852fb47a-78ff-434e-b2fb-12ca50a16cac",
   "metadata": {},
   "outputs": [
    {
     "data": {
      "text/html": [
       "-0.413549821420965"
      ],
      "text/latex": [
       "-0.413549821420965"
      ],
      "text/markdown": [
       "-0.413549821420965"
      ],
      "text/plain": [
       "[1] -0.4135498"
      ]
     },
     "metadata": {},
     "output_type": "display_data"
    }
   ],
   "source": [
    "library(e1071)\n",
    "skewness(faithful$eruptions)"
   ]
  },
  {
   "cell_type": "markdown",
   "id": "c59a76ba-c006-4a02-b7c7-fbb7d083433c",
   "metadata": {},
   "source": [
    "<div class=\"alert alert-block alert-success\">\n",
    "<b>Task:</b> Is the distribution left or right skewed?\n",
    "</div>\n",
    "\n",
    "### Kurtosis\n",
    "\n",
    "Kurtosis describes the tail shape of the data's distribution. A normal distribution has zero kurtosis and thus the standard tail shape (mesokurtic). Negative kurtosis indicates data with a thin-tailed (platykurtic) distribution. Positive kurtosis indicates a fat-tailed distribution (leptokurtic)."
   ]
  },
  {
   "cell_type": "code",
   "execution_count": 9,
   "id": "37410c32-9f34-4694-98ba-ef238b8a8b1f",
   "metadata": {},
   "outputs": [
    {
     "data": {
      "text/html": [
       "-1.51160508959792"
      ],
      "text/latex": [
       "-1.51160508959792"
      ],
      "text/markdown": [
       "-1.51160508959792"
      ],
      "text/plain": [
       "[1] -1.511605"
      ]
     },
     "metadata": {},
     "output_type": "display_data"
    }
   ],
   "source": [
    "# library(e1071)\n",
    "kurtosis(faithful$eruptions)"
   ]
  },
  {
   "cell_type": "markdown",
   "id": "c82af9c6-18db-4c77-a10e-a9340b9abc4e",
   "metadata": {},
   "source": [
    "## Measures of variation and spread\n",
    "\n",
    "Since the mean or median does not tell us everything there is to know about data, we will also have to determine some statistics that inform us about the variation (or spread or dispersal or inertia) around the central/mean value.\n",
    "\n",
    "**Table:** Measures of variation and spread.\n",
    "\n",
    "| Statistic | Function |\n",
    "| --- | --- |\n",
    "| Variance | `var()` |\n",
    "| Standard deviation | `sd()` |\n",
    "| Minimum | `min()` |\n",
    "| Maximum | `max()` |\n",
    "| Range | `range()` |\n",
    "| Quantile | `quantile()` |\n",
    "| Covariance | `cov()` |\n",
    "| Correlation | `cor()` |\n",
    "\n",
    "### The variance and standard deviation\n",
    "\n",
    "The variance and standard deviation are examples of interval estimates. The *sample variance*, $S^{2}$, may be calculated according to the following formula:\n",
    "\n",
    "$$S^{2} = \\frac{1}{n-1}\\sum_{i=1}^{n}(x_{i}-\\bar{x})^{2}$$\n",
    "\n",
    "This reads: \"the sum of the squared differences from the mean, divided by the sample size minus 1.\"\n",
    "\n",
    "To get the *standard deviation*, $S$, we take the square root of the variance, i.e. $S = \\sqrt{S^{2}}$.\n",
    "\n",
    "No need to plug these equations into MS Excel. Let us quickly calculate $S$ in R. Again, we use the `chicks` data:"
   ]
  },
  {
   "cell_type": "code",
   "execution_count": 10,
   "id": "59d62c7d-f519-4b40-9da6-d333c6ad4fa9",
   "metadata": {},
   "outputs": [
    {
     "data": {
      "text/html": [
       "<table class=\"dataframe\">\n",
       "<caption>A tibble: 1 × 1</caption>\n",
       "<thead>\n",
       "\t<tr><th scope=col>sd_wt</th></tr>\n",
       "\t<tr><th scope=col>&lt;dbl&gt;</th></tr>\n",
       "</thead>\n",
       "<tbody>\n",
       "\t<tr><td>71.07196</td></tr>\n",
       "</tbody>\n",
       "</table>\n"
      ],
      "text/latex": [
       "A tibble: 1 × 1\n",
       "\\begin{tabular}{l}\n",
       " sd\\_wt\\\\\n",
       " <dbl>\\\\\n",
       "\\hline\n",
       "\t 71.07196\\\\\n",
       "\\end{tabular}\n"
      ],
      "text/markdown": [
       "\n",
       "A tibble: 1 × 1\n",
       "\n",
       "| sd_wt &lt;dbl&gt; |\n",
       "|---|\n",
       "| 71.07196 |\n",
       "\n"
      ],
      "text/plain": [
       "  sd_wt   \n",
       "1 71.07196"
      ]
     },
     "metadata": {},
     "output_type": "display_data"
    }
   ],
   "source": [
    "chicks %>% \n",
    "  summarise(sd_wt = sd(weight))"
   ]
  },
  {
   "cell_type": "markdown",
   "id": "70b5af35-d83a-4acf-b6e9-7118a89fc00c",
   "metadata": {},
   "source": [
    "The interpretation of the concepts of mean and median are fairly straight forward and intuitive. Not so for the measures of variance. What does $S$ represent? Firstly, the unit of measurement of $S$ is the same as that of $\\bar{x}$ (but the variance doesn't share this characteristic). If temperature is measured in °C, then $S$ also takes a unit of °C. Since $S$ measures the dispersion *around* the mean, we write it as $\\bar{x} \\pm S$ (note that often the mean and standard deviation are written with the letters *mu* and *sigma*, respectively; i.e. $\\mu \\pm \\sigma$). The smaller $S$ the closer the sample data are to $\\bar{x}$, and the larger the value is the further away they will spread out from $\\bar{x}$. So, it tells us about the proportion of observations above and below $\\bar{x}$. But what proportion? We invoke the the 68-95-99.7 rule: ~68% of the population (as represented by a random sample of $n$ observations taken from the population) falls within 1$S$ of $\\bar{x}$ (i.e. ~34% below $\\bar{x}$ and ~34% above $\\bar{x}$); ~95% of the population falls within 2$S$; and ~99.7% falls within 3$S$.\n",
    "\n",
    "![Standard deviation diagram](../Resources/Standard_deviation_diagram.png)"
   ]
  },
  {
   "cell_type": "markdown",
   "id": "054f0a80-d7c1-4207-a7f1-db0a32455ee6",
   "metadata": {},
   "source": [
    "Like the mean, $S$ is affected by extreme values and outliers, so before we attach $S$ as a summary statistic to describe some data, we need to ensure that the data are in fact normally distributed. We will talk about how to do this in Chapter 6, where we will go over the numerous ways to check the assumption of normality. When the data are found to be non-normal, we need to find appropriate ways to express the spread of the data. Enter the quartiles.\n",
    "\n",
    "### Quantiles\n",
    "A more forgiving approach (forgiving of the extremes, often called 'robust') is to divide the distribution of ordered data into quarters, and find the points below which 25% (0.25, the first quartile), 50% (0.50, the median) and 75% (0.75, the third quartile) of the data are distributed. These are called *quartiles* (for 'quarter;' not to be confused with *quantile*, which is a more general form of the function that can be used to divide the distribution into any arbitrary proportion from 0 to 1). In R we use the `quantile()` function to provide the quartiles; we demonstrate two approaches:"
   ]
  },
  {
   "cell_type": "code",
   "execution_count": 11,
   "id": "6e3d5fd6-01fe-4e59-a39e-af6195d022b7",
   "metadata": {},
   "outputs": [
    {
     "data": {
      "text/html": [
       "<style>\n",
       ".dl-inline {width: auto; margin:0; padding: 0}\n",
       ".dl-inline>dt, .dl-inline>dd {float: none; width: auto; display: inline-block}\n",
       ".dl-inline>dt::after {content: \":\\0020\"; padding-right: .5ex}\n",
       ".dl-inline>dt:not(:first-of-type) {padding-left: .5ex}\n",
       "</style><dl class=dl-inline><dt>0%</dt><dd>35</dd><dt>25%</dt><dd>63</dd><dt>50%</dt><dd>103</dd><dt>75%</dt><dd>163.75</dd><dt>100%</dt><dd>373</dd></dl>\n"
      ],
      "text/latex": [
       "\\begin{description*}\n",
       "\\item[0\\textbackslash{}\\%] 35\n",
       "\\item[25\\textbackslash{}\\%] 63\n",
       "\\item[50\\textbackslash{}\\%] 103\n",
       "\\item[75\\textbackslash{}\\%] 163.75\n",
       "\\item[100\\textbackslash{}\\%] 373\n",
       "\\end{description*}\n"
      ],
      "text/markdown": [
       "0%\n",
       ":   3525%\n",
       ":   6350%\n",
       ":   10375%\n",
       ":   163.75100%\n",
       ":   373\n",
       "\n"
      ],
      "text/plain": [
       "    0%    25%    50%    75%   100% \n",
       " 35.00  63.00 103.00 163.75 373.00 "
      ]
     },
     "metadata": {},
     "output_type": "display_data"
    },
    {
     "data": {
      "text/html": [
       "<table class=\"dataframe\">\n",
       "<caption>A tibble: 1 × 5</caption>\n",
       "<thead>\n",
       "\t<tr><th scope=col>min_wt</th><th scope=col>qrt1_wt</th><th scope=col>med_wt</th><th scope=col>qrt3_wt</th><th scope=col>max_wt</th></tr>\n",
       "\t<tr><th scope=col>&lt;dbl&gt;</th><th scope=col>&lt;dbl&gt;</th><th scope=col>&lt;dbl&gt;</th><th scope=col>&lt;dbl&gt;</th><th scope=col>&lt;dbl&gt;</th></tr>\n",
       "</thead>\n",
       "<tbody>\n",
       "\t<tr><td>35</td><td>63</td><td>103</td><td>103</td><td>373</td></tr>\n",
       "</tbody>\n",
       "</table>\n"
      ],
      "text/latex": [
       "A tibble: 1 × 5\n",
       "\\begin{tabular}{lllll}\n",
       " min\\_wt & qrt1\\_wt & med\\_wt & qrt3\\_wt & max\\_wt\\\\\n",
       " <dbl> & <dbl> & <dbl> & <dbl> & <dbl>\\\\\n",
       "\\hline\n",
       "\t 35 & 63 & 103 & 103 & 373\\\\\n",
       "\\end{tabular}\n"
      ],
      "text/markdown": [
       "\n",
       "A tibble: 1 × 5\n",
       "\n",
       "| min_wt &lt;dbl&gt; | qrt1_wt &lt;dbl&gt; | med_wt &lt;dbl&gt; | qrt3_wt &lt;dbl&gt; | max_wt &lt;dbl&gt; |\n",
       "|---|---|---|---|---|\n",
       "| 35 | 63 | 103 | 103 | 373 |\n",
       "\n"
      ],
      "text/plain": [
       "  min_wt qrt1_wt med_wt qrt3_wt max_wt\n",
       "1 35     63      103    103     373   "
      ]
     },
     "metadata": {},
     "output_type": "display_data"
    }
   ],
   "source": [
    "quantile(chicks$weight)\n",
    "\n",
    "chicks %>% \n",
    "  summarise(min_wt = min(weight),\n",
    "            qrt1_wt = quantile(weight, p = 0.25),\n",
    "            med_wt = median(weight),\n",
    "            qrt3_wt = median(weight, p = 0.75),\n",
    "            max_wt = max(weight))\n",
    "# note median(weight) is the same as quantile(weight, p = 0.5) \n",
    "# in the summarise() implementation, above"
   ]
  },
  {
   "cell_type": "markdown",
   "id": "0c0e5530-1c41-4795-a8a9-43fcfba07ec2",
   "metadata": {},
   "source": [
    "<div class=\"alert alert-block alert-success\">\n",
    "<b>Task:</b> What is different about the `quantile()` function that caused us to specify the calculation in the way in which we have done so above? You will have to consult the help file, read it, understand it, think about it, and experiment with the ideas. Take 15 minutes to figure it out and report back to the class.\n",
    "</div>\n",
    "    \n",
    "### The minimum, maximum and range\n",
    "A description of the extent of the data can also be provided by the functions `min()`, `max()` and `range()`. \n",
    "\n",
    "These statistics apply to data of any distribution, and not only to normal data. This if often the first place you want to start when looking at the data for the first time. We've seen above how to use `min()` and `max()`, so below we will quickly look at how to use `range()` in both the base R and tidy methods:"
   ]
  },
  {
   "cell_type": "code",
   "execution_count": 12,
   "id": "9c2a78ca-6cd6-4555-80a9-dba9b2e8a867",
   "metadata": {},
   "outputs": [
    {
     "data": {
      "text/html": [
       "<style>\n",
       ".list-inline {list-style: none; margin:0; padding: 0}\n",
       ".list-inline>li {display: inline-block}\n",
       ".list-inline>li:not(:last-child)::after {content: \"\\00b7\"; padding: 0 .5ex}\n",
       "</style>\n",
       "<ol class=list-inline><li>35</li><li>373</li></ol>\n"
      ],
      "text/latex": [
       "\\begin{enumerate*}\n",
       "\\item 35\n",
       "\\item 373\n",
       "\\end{enumerate*}\n"
      ],
      "text/markdown": [
       "1. 35\n",
       "2. 373\n",
       "\n",
       "\n"
      ],
      "text/plain": [
       "[1]  35 373"
      ]
     },
     "metadata": {},
     "output_type": "display_data"
    },
    {
     "data": {
      "text/html": [
       "<table class=\"dataframe\">\n",
       "<caption>A tibble: 1 × 2</caption>\n",
       "<thead>\n",
       "\t<tr><th scope=col>lower_wt</th><th scope=col>upper_wt</th></tr>\n",
       "\t<tr><th scope=col>&lt;dbl&gt;</th><th scope=col>&lt;dbl&gt;</th></tr>\n",
       "</thead>\n",
       "<tbody>\n",
       "\t<tr><td>35</td><td>373</td></tr>\n",
       "</tbody>\n",
       "</table>\n"
      ],
      "text/latex": [
       "A tibble: 1 × 2\n",
       "\\begin{tabular}{ll}\n",
       " lower\\_wt & upper\\_wt\\\\\n",
       " <dbl> & <dbl>\\\\\n",
       "\\hline\n",
       "\t 35 & 373\\\\\n",
       "\\end{tabular}\n"
      ],
      "text/markdown": [
       "\n",
       "A tibble: 1 × 2\n",
       "\n",
       "| lower_wt &lt;dbl&gt; | upper_wt &lt;dbl&gt; |\n",
       "|---|---|\n",
       "| 35 | 373 |\n",
       "\n"
      ],
      "text/plain": [
       "  lower_wt upper_wt\n",
       "1 35       373     "
      ]
     },
     "metadata": {},
     "output_type": "display_data"
    }
   ],
   "source": [
    "range(chicks$weight)\n",
    "\n",
    "chicks %>% \n",
    "  summarise(lower_wt = range(weight)[1],\n",
    "            upper_wt = range(weight)[2])"
   ]
  },
  {
   "cell_type": "markdown",
   "id": "6b163644-f8ce-4036-9197-412c0658f33b",
   "metadata": {},
   "source": [
    "Note that `range()` actually gives us the minimum and maximum values, and not the difference between them. To find the range value properly we must be a bit more clever:"
   ]
  },
  {
   "cell_type": "code",
   "execution_count": 13,
   "id": "45e3dad2-30b2-4e94-b942-363b1f9a0852",
   "metadata": {},
   "outputs": [
    {
     "data": {
      "text/html": [
       "338"
      ],
      "text/latex": [
       "338"
      ],
      "text/markdown": [
       "338"
      ],
      "text/plain": [
       "[1] 338"
      ]
     },
     "metadata": {},
     "output_type": "display_data"
    },
    {
     "data": {
      "text/html": [
       "<table class=\"dataframe\">\n",
       "<caption>A tibble: 1 × 1</caption>\n",
       "<thead>\n",
       "\t<tr><th scope=col>range_wt</th></tr>\n",
       "\t<tr><th scope=col>&lt;dbl&gt;</th></tr>\n",
       "</thead>\n",
       "<tbody>\n",
       "\t<tr><td>338</td></tr>\n",
       "</tbody>\n",
       "</table>\n"
      ],
      "text/latex": [
       "A tibble: 1 × 1\n",
       "\\begin{tabular}{l}\n",
       " range\\_wt\\\\\n",
       " <dbl>\\\\\n",
       "\\hline\n",
       "\t 338\\\\\n",
       "\\end{tabular}\n"
      ],
      "text/markdown": [
       "\n",
       "A tibble: 1 × 1\n",
       "\n",
       "| range_wt &lt;dbl&gt; |\n",
       "|---|\n",
       "| 338 |\n",
       "\n"
      ],
      "text/plain": [
       "  range_wt\n",
       "1 338     "
      ]
     },
     "metadata": {},
     "output_type": "display_data"
    }
   ],
   "source": [
    "range(chicks$weight)[2] - range(chicks$weight)[1]\n",
    "\n",
    "chicks %>% \n",
    "  summarise(range_wt = range(weight)[2] - range(weight)[1])"
   ]
  },
  {
   "cell_type": "markdown",
   "id": "6f917492-c791-4d74-a4c3-06ea5e918658",
   "metadata": {},
   "source": [
    "<!-- ### Covariance -->\n",
    "\n",
    "### Correlation\n",
    "The correlation coefficient of two matched (paired) variables is equal to their covariance divided by the product of their individual standard deviations. It is a normalised measurement of how linearly related the two variables are.\n",
    "\n",
    "<!-- include the equation -->\n",
    "<!-- include example here -->\n",
    "\n",
    "Graphical displays of correlations are provided by scatter plots as can be seen in Section X.\n",
    "\n",
    "## Missing values\n",
    "\n",
    "As mentioned in Chapter 2, missing data are pervaise in the biological sciences. Happily for us, R is designed to handle these data easily. It is important to note here explicitly that all of the basic functions in R will by default *NOT* ignore missing data. This has been done so as to prevent the user from accidentally forgetting about the missing data and potentially making errors in later stages in an analysis. Therefore, we must explicitly tell R when we want it to ommit missing values from a calculation. Let's create a small vector of data to demonstrate this:"
   ]
  },
  {
   "cell_type": "code",
   "execution_count": 14,
   "id": "68a00588-4df1-403b-b146-0e84ee72b134",
   "metadata": {},
   "outputs": [
    {
     "data": {
      "text/html": [
       "&lt;NA&gt;"
      ],
      "text/latex": [
       "<NA>"
      ],
      "text/markdown": [
       "&lt;NA&gt;"
      ],
      "text/plain": [
       "[1] NA"
      ]
     },
     "metadata": {},
     "output_type": "display_data"
    },
    {
     "data": {
      "text/html": [
       "36.25"
      ],
      "text/latex": [
       "36.25"
      ],
      "text/markdown": [
       "36.25"
      ],
      "text/plain": [
       "[1] 36.25"
      ]
     },
     "metadata": {},
     "output_type": "display_data"
    }
   ],
   "source": [
    "dat1 <- c(NA, 12, 76, 34, 23)\n",
    "\n",
    "# Without telling R to ommit missing data\n",
    "mean(dat1)\n",
    "\n",
    "# Ommitting the missing data\n",
    "mean(dat1, na.rm = TRUE)"
   ]
  },
  {
   "cell_type": "markdown",
   "id": "f062fc32-88a3-4f7a-93df-385127bc2307",
   "metadata": {},
   "source": [
    "Note that this argument, `na.rm = TRUE` may be used in all of the functions we have seen thus far in this chapter.\n",
    "\n",
    "## Descriptive statistics by group\n",
    "\n",
    "Above we have revised the basic kinds of summary statistics, and how to calculate them. This is nice. But it can be more useful. The real reason why we might want to see the descriptive statistics is to facilitate comparisons between groups. In the chicks data we calculated the mean (etc.) for all the chickens, over all the diet groups to which they had been assigned (there are four factors, i.e. Diets 1 to 4), and over the entire duration of the experiment (the experiment lasted 21 days). It would be more useful to see what the weights are of the chickens in each of the four groups at the end of the experiment --- we can compare means (± SD) and medians (± interquartile ranges, etc.), for instance. You'll notice now how the measures of central tendency is being combined with the measures of variability/range. Further, we can augment this statistical summary with many kinds of graphical summaries, which will be far more revealing of differences (if any) amongst groups. We will revise how to produce the group statistics and show a range of graphical displays.\n",
    "\n",
    "### Groupwise summary statistics\n",
    "\n",
    "At this point you need to refer to [Chapter 11](https://ajsmit.github.io/Intro_R_Official/tidy.html) (Tidy data) and [Chapter 12](https://ajsmit.github.io/Intro_R_Official/tidier.html) (Tidier data) in the **Intro R Workshop** to remind yourself about in what format the data need to be before we can efficiently work with it. A hint: one observation in a row, and one variable per column. From this point, it is trivial to do the various data descriptions, visualisations, and analyses. Thankfully, the `chicks` data are already in this format.\n",
    "\n",
    "So, what are the summary statistics for the chickens for each diet group at day 21?"
   ]
  },
  {
   "cell_type": "code",
   "execution_count": 3,
   "id": "909e787d-25f2-48ca-942f-81d50efe11b9",
   "metadata": {},
   "outputs": [
    {
     "data": {
      "text/html": [
       "<table class=\"dataframe\">\n",
       "<caption>A tibble: 4 × 11</caption>\n",
       "<thead>\n",
       "\t<tr><th scope=col>Diet</th><th scope=col>Time</th><th scope=col>mean_wt</th><th scope=col>med_wt</th><th scope=col>sd_wt</th><th scope=col>sum_wt</th><th scope=col>min_wt</th><th scope=col>qrt1_wt</th><th scope=col>qrt3_wt</th><th scope=col>max_wt</th><th scope=col>n_wt</th></tr>\n",
       "\t<tr><th scope=col>&lt;fct&gt;</th><th scope=col>&lt;dbl&gt;</th><th scope=col>&lt;dbl&gt;</th><th scope=col>&lt;dbl&gt;</th><th scope=col>&lt;dbl&gt;</th><th scope=col>&lt;dbl&gt;</th><th scope=col>&lt;dbl&gt;</th><th scope=col>&lt;dbl&gt;</th><th scope=col>&lt;dbl&gt;</th><th scope=col>&lt;dbl&gt;</th><th scope=col>&lt;int&gt;</th></tr>\n",
       "</thead>\n",
       "<tbody>\n",
       "\t<tr><td>1</td><td>21</td><td>177.75</td><td>166.0</td><td>58.70</td><td>2844</td><td> 96</td><td>137.5</td><td>166.0</td><td>305</td><td>16</td></tr>\n",
       "\t<tr><td>2</td><td>21</td><td>214.70</td><td>212.5</td><td>78.14</td><td>2147</td><td> 74</td><td>169.0</td><td>212.5</td><td>331</td><td>10</td></tr>\n",
       "\t<tr><td>3</td><td>21</td><td>270.30</td><td>281.0</td><td>71.62</td><td>2703</td><td>147</td><td>229.0</td><td>281.0</td><td>373</td><td>10</td></tr>\n",
       "\t<tr><td>4</td><td>21</td><td>238.56</td><td>237.0</td><td>43.35</td><td>2147</td><td>196</td><td>204.0</td><td>237.0</td><td>322</td><td> 9</td></tr>\n",
       "</tbody>\n",
       "</table>\n"
      ],
      "text/latex": [
       "A tibble: 4 × 11\n",
       "\\begin{tabular}{lllllllllll}\n",
       " Diet & Time & mean\\_wt & med\\_wt & sd\\_wt & sum\\_wt & min\\_wt & qrt1\\_wt & qrt3\\_wt & max\\_wt & n\\_wt\\\\\n",
       " <fct> & <dbl> & <dbl> & <dbl> & <dbl> & <dbl> & <dbl> & <dbl> & <dbl> & <dbl> & <int>\\\\\n",
       "\\hline\n",
       "\t 1 & 21 & 177.75 & 166.0 & 58.70 & 2844 &  96 & 137.5 & 166.0 & 305 & 16\\\\\n",
       "\t 2 & 21 & 214.70 & 212.5 & 78.14 & 2147 &  74 & 169.0 & 212.5 & 331 & 10\\\\\n",
       "\t 3 & 21 & 270.30 & 281.0 & 71.62 & 2703 & 147 & 229.0 & 281.0 & 373 & 10\\\\\n",
       "\t 4 & 21 & 238.56 & 237.0 & 43.35 & 2147 & 196 & 204.0 & 237.0 & 322 &  9\\\\\n",
       "\\end{tabular}\n"
      ],
      "text/markdown": [
       "\n",
       "A tibble: 4 × 11\n",
       "\n",
       "| Diet &lt;fct&gt; | Time &lt;dbl&gt; | mean_wt &lt;dbl&gt; | med_wt &lt;dbl&gt; | sd_wt &lt;dbl&gt; | sum_wt &lt;dbl&gt; | min_wt &lt;dbl&gt; | qrt1_wt &lt;dbl&gt; | qrt3_wt &lt;dbl&gt; | max_wt &lt;dbl&gt; | n_wt &lt;int&gt; |\n",
       "|---|---|---|---|---|---|---|---|---|---|---|\n",
       "| 1 | 21 | 177.75 | 166.0 | 58.70 | 2844 |  96 | 137.5 | 166.0 | 305 | 16 |\n",
       "| 2 | 21 | 214.70 | 212.5 | 78.14 | 2147 |  74 | 169.0 | 212.5 | 331 | 10 |\n",
       "| 3 | 21 | 270.30 | 281.0 | 71.62 | 2703 | 147 | 229.0 | 281.0 | 373 | 10 |\n",
       "| 4 | 21 | 238.56 | 237.0 | 43.35 | 2147 | 196 | 204.0 | 237.0 | 322 |  9 |\n",
       "\n"
      ],
      "text/plain": [
       "  Diet Time mean_wt med_wt sd_wt sum_wt min_wt qrt1_wt qrt3_wt max_wt n_wt\n",
       "1 1    21   177.75  166.0  58.70 2844    96    137.5   166.0   305    16  \n",
       "2 2    21   214.70  212.5  78.14 2147    74    169.0   212.5   331    10  \n",
       "3 3    21   270.30  281.0  71.62 2703   147    229.0   281.0   373    10  \n",
       "4 4    21   238.56  237.0  43.35 2147   196    204.0   237.0   322     9  "
      ]
     },
     "metadata": {},
     "output_type": "display_data"
    }
   ],
   "source": [
    "grp_stat <- chicks %>%\n",
    "  filter(Time == 21) %>% \n",
    "  group_by(Diet, Time) %>% \n",
    "  summarise(mean_wt = round(mean(weight, na.rm = TRUE), 2),\n",
    "            med_wt = median(weight, na.rm = TRUE),\n",
    "            sd_wt = round(sd(weight, na.rm = TRUE), 2),\n",
    "            sum_wt = sum(weight),\n",
    "            min_wt = min(weight),\n",
    "            qrt1_wt = quantile(weight, p = 0.25),\n",
    "            med_wt = median(weight),\n",
    "            qrt3_wt = median(weight, p = 0.75),\n",
    "            max_wt = max(weight),\n",
    "            n_wt = n(), .groups = \"drop\")\n",
    "grp_stat"
   ]
  },
  {
   "cell_type": "markdown",
   "id": "d75f58fb-58a6-4de5-aaac-6373751f00a0",
   "metadata": {},
   "source": [
    "### Displays of group summaries\n",
    "\n",
    "<!-- probably can be moved to the section 'Graphical data displays' -->\n",
    "\n",
    "There are several kinds of graphical displays for your data. We will show some which are able to display the spread of the raw data, the mean or median, as well as the appropriate accompanying indicators of variation around the mean or median."
   ]
  },
  {
   "cell_type": "code",
   "execution_count": 16,
   "id": "2f3b20df-a33a-479e-a797-d87c8b5d51fe",
   "metadata": {},
   "outputs": [
    {
     "data": {
      "image/png": "[encoded data removed]",
      "text/plain": [
       "plot without title"
      ]
     },
     "metadata": {
      "image/png": {
       "height": 420,
       "width": 420
      }
     },
     "output_type": "display_data"
    }
   ],
   "source": [
    "library(ggpubr) # needed for arranging multi-panel plots\n",
    "plt1 <- chicks %>%\n",
    "  filter(Time == 21) %>% \n",
    "  ggplot(aes(x = Diet, y = weight)) +\n",
    "  geom_point(data = grp_stat, aes(x = Diet, y = mean_wt), \n",
    "             col = \"black\", fill = \"red\", shape = 23, size = 3) +\n",
    "  geom_jitter(width = 0.05) + # geom_point() if jitter not required\n",
    "  labs(y = \"Chicken mass (g)\") + \n",
    "  theme_pubr()\n",
    "\n",
    "plt2 <- ggplot(data = grp_stat, aes(x = Diet, y = mean_wt)) +\n",
    "  geom_bar(position = position_dodge(), stat = \"identity\", \n",
    "           col = NA, fill = \"salmon\") +\n",
    "  geom_errorbar(aes(ymin = mean_wt - sd_wt, ymax = mean_wt + sd_wt),\n",
    "                width = .2) +\n",
    "  labs(y = \"Chicken mass (g)\") + \n",
    "  theme_pubr()\n",
    "# position_dodge() places bars side-by-side\n",
    "# stat = \"identity\" prevents the default count from being plotted\n",
    "\n",
    "# a description of the components of a boxplot is provided in the help file\n",
    "# geom_boxplot()\n",
    "plt3 <- chicks %>%\n",
    "  filter(Time == 21) %>% \n",
    "  ggplot(aes(x = Diet, y = weight)) +\n",
    "  geom_boxplot(fill = \"salmon\") +\n",
    "  geom_jitter(width = 0.05, fill = \"white\", col = \"blue\", shape = 21) +\n",
    "  labs(y = \"Chicken mass (g)\") + \n",
    "  theme_pubr()\n",
    "\n",
    "plt4 <- chicks %>%\n",
    "  filter(Time %in% c(10, 21)) %>% \n",
    "  ggplot(aes(x = Diet, y = weight, fill = as.factor(Time))) +\n",
    "  geom_boxplot() +\n",
    "  geom_jitter(shape = 21, width = 0.1) +\n",
    "  labs(y = \"Chicken mass (g)\", fill = \"Time\") +\n",
    "  theme_pubr()\n",
    "\n",
    "ggarrange(plt1, plt2, plt3, plt4, ncol = 2, nrow = 2, labels = \"AUTO\")"
   ]
  },
  {
   "cell_type": "markdown",
   "id": "3cb63882-39df-4632-998f-67388aea23b9",
   "metadata": {},
   "source": [
    "## Exercises\n",
    "\n",
    "<div class=\"alert alert-block alert-success\">\n",
    "<b>Exercise 1</b>\n",
    "Notice how the data summary for chicken weights contained within `wt_summary` is very similar to the summary returned for `weight` when we apply `summary(chicks)`. Please use the `summarise()` approach and construct a data summary with exactly the same summary statistics for `weight` as that which `summary()` returns.\n",
    "</div>"
   ]
  }
 ],
 "metadata": {
  "kernelspec": {
   "display_name": "R",
   "language": "R",
   "name": "ir"
  },
  "language_info": {
   "codemirror_mode": "r",
   "file_extension": ".r",
   "mimetype": "text/x-r-source",
   "name": "R",
   "pygments_lexer": "r",
   "version": "4.1.3"
  }
 },
 "nbformat": 4,
 "nbformat_minor": 5
}
