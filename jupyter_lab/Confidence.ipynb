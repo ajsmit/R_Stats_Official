{
 "cells": [
  {
   "cell_type": "markdown",
   "id": "1dd456aa-8c21-41fb-b223-9092cda099d9",
   "metadata": {},
   "source": [
    "**Author:** Prof. AJ Smit\n",
    "\n",
    "Department of Biodiversity and Conservation Biology\n",
    "\n",
    "University of the Western Cape\n",
    "\n",
    "<div class=\"alert alert-block alert-info\">\n",
    "\"In the beginning there was nothing, which exploded.\" --- erry Pratchett\n",
    "</div>\n",
    "\n",
    "# Confidence intervals\n",
    "\n",
    "A confidence interval (CI) tells us within what range we may be certain to find the true mean from which any sample has been taken. If we were to repeatedly sample the same population over and over and calculated a mean every time, the 95% CI indicates the range that 95% of those means would fall into.\n",
    "\n",
    "## Calculating confidence"
   ]
  },
  {
   "cell_type": "code",
   "execution_count": 1,
   "id": "69c4fbb8-6793-4151-998a-0a5667b573c6",
   "metadata": {},
   "outputs": [
    {
     "data": {
      "text/plain": [
       "   Student              Sex              Teacher              Steps      \n",
       " Length:26          Length:26          Length:26          Min.   : 5000  \n",
       " Class :character   Class :character   Class :character   1st Qu.: 7000  \n",
       " Mode  :character   Mode  :character   Mode  :character   Median : 8000  \n",
       "                                                          Mean   : 7692  \n",
       "                                                          3rd Qu.: 8750  \n",
       "                                                          Max.   :10000  \n",
       "     Rating      \n",
       " Min.   : 4.000  \n",
       " 1st Qu.: 7.000  \n",
       " Median : 8.000  \n",
       " Mean   : 7.615  \n",
       " 3rd Qu.: 9.000  \n",
       " Max.   :10.000  "
      ]
     },
     "metadata": {},
     "output_type": "display_data"
    }
   ],
   "source": [
    "Input <- (\"\n",
    "Student  Sex     Teacher  Steps  Rating\n",
    "a        female  Jacob    8000   7\n",
    "b        female  Jacob    9000  10\n",
    "c        female  Jacob   10000   9\n",
    "d        female  Jacob    7000   5\n",
    "e        female  Jacob    6000   4\n",
    "f        female  Jacob    8000   8\n",
    "g        male    Jacob    7000   6\n",
    "h        male    Jacob    5000   5\n",
    "i        male    Jacob    9000  10\n",
    "j        male    Jacob    7000   8\n",
    "k        female  Sadam    8000   7\n",
    "l        female  Sadam    9000   8\n",
    "m        female  Sadam    9000   8\n",
    "n        female  Sadam    8000   9\n",
    "o        male    Sadam    6000   5\n",
    "p        male    Sadam    8000   9\n",
    "q        male    Sadam    7000   6\n",
    "r        female  Donald   10000  10\n",
    "s        female  Donald    9000  10\n",
    "t        female  Donald    8000   8\n",
    "u        female  Donald    8000   7\n",
    "v        female  Donald    6000   7\n",
    "w        male    Donald    6000   8\n",
    "x        male    Donald    8000  10\n",
    "y        male    Donald    7000   7\n",
    "z        male    Donald    7000   7\n",
    "\")\n",
    "\n",
    "data <- read.table(textConnection(Input),header = TRUE)\n",
    "summary(data)"
   ]
  },
  {
   "cell_type": "code",
   "execution_count": 2,
   "id": "6a2f9dfe-f0c0-49ff-a944-8df20d09e4e9",
   "metadata": {},
   "outputs": [
    {
     "data": {
      "text/html": [
       "<table class=\"dataframe\">\n",
       "<caption>A data.frame: 1 × 6</caption>\n",
       "<thead>\n",
       "\t<tr><th scope=col>.id</th><th scope=col>n</th><th scope=col>Mean</th><th scope=col>Conf.level</th><th scope=col>Trad.lower</th><th scope=col>Trad.upper</th></tr>\n",
       "\t<tr><th scope=col>&lt;chr&gt;</th><th scope=col>&lt;int&gt;</th><th scope=col>&lt;dbl&gt;</th><th scope=col>&lt;dbl&gt;</th><th scope=col>&lt;dbl&gt;</th><th scope=col>&lt;dbl&gt;</th></tr>\n",
       "</thead>\n",
       "<tbody>\n",
       "\t<tr><td>NA</td><td>26</td><td>7690</td><td>0.95</td><td>7170</td><td>8210</td></tr>\n",
       "</tbody>\n",
       "</table>\n"
      ],
      "text/latex": [
       "A data.frame: 1 × 6\n",
       "\\begin{tabular}{llllll}\n",
       " .id & n & Mean & Conf.level & Trad.lower & Trad.upper\\\\\n",
       " <chr> & <int> & <dbl> & <dbl> & <dbl> & <dbl>\\\\\n",
       "\\hline\n",
       "\t NA & 26 & 7690 & 0.95 & 7170 & 8210\\\\\n",
       "\\end{tabular}\n"
      ],
      "text/markdown": [
       "\n",
       "A data.frame: 1 × 6\n",
       "\n",
       "| .id &lt;chr&gt; | n &lt;int&gt; | Mean &lt;dbl&gt; | Conf.level &lt;dbl&gt; | Trad.lower &lt;dbl&gt; | Trad.upper &lt;dbl&gt; |\n",
       "|---|---|---|---|---|---|\n",
       "| NA | 26 | 7690 | 0.95 | 7170 | 8210 |\n",
       "\n"
      ],
      "text/plain": [
       "  .id n  Mean Conf.level Trad.lower Trad.upper\n",
       "1 NA  26 7690 0.95       7170       8210      "
      ]
     },
     "metadata": {},
     "output_type": "display_data"
    },
    {
     "data": {
      "text/html": [
       "<table class=\"dataframe\">\n",
       "<caption>A data.frame: 2 × 6</caption>\n",
       "<thead>\n",
       "\t<tr><th scope=col>Sex</th><th scope=col>n</th><th scope=col>Mean</th><th scope=col>Conf.level</th><th scope=col>Trad.lower</th><th scope=col>Trad.upper</th></tr>\n",
       "\t<tr><th scope=col>&lt;chr&gt;</th><th scope=col>&lt;int&gt;</th><th scope=col>&lt;dbl&gt;</th><th scope=col>&lt;dbl&gt;</th><th scope=col>&lt;dbl&gt;</th><th scope=col>&lt;dbl&gt;</th></tr>\n",
       "</thead>\n",
       "<tbody>\n",
       "\t<tr><td>female</td><td>15</td><td>8200</td><td>0.95</td><td>7530</td><td>8870</td></tr>\n",
       "\t<tr><td>male  </td><td>11</td><td>7000</td><td>0.95</td><td>6260</td><td>7740</td></tr>\n",
       "</tbody>\n",
       "</table>\n"
      ],
      "text/latex": [
       "A data.frame: 2 × 6\n",
       "\\begin{tabular}{llllll}\n",
       " Sex & n & Mean & Conf.level & Trad.lower & Trad.upper\\\\\n",
       " <chr> & <int> & <dbl> & <dbl> & <dbl> & <dbl>\\\\\n",
       "\\hline\n",
       "\t female & 15 & 8200 & 0.95 & 7530 & 8870\\\\\n",
       "\t male   & 11 & 7000 & 0.95 & 6260 & 7740\\\\\n",
       "\\end{tabular}\n"
      ],
      "text/markdown": [
       "\n",
       "A data.frame: 2 × 6\n",
       "\n",
       "| Sex &lt;chr&gt; | n &lt;int&gt; | Mean &lt;dbl&gt; | Conf.level &lt;dbl&gt; | Trad.lower &lt;dbl&gt; | Trad.upper &lt;dbl&gt; |\n",
       "|---|---|---|---|---|---|\n",
       "| female | 15 | 8200 | 0.95 | 7530 | 8870 |\n",
       "| male   | 11 | 7000 | 0.95 | 6260 | 7740 |\n",
       "\n"
      ],
      "text/plain": [
       "  Sex    n  Mean Conf.level Trad.lower Trad.upper\n",
       "1 female 15 8200 0.95       7530       8870      \n",
       "2 male   11 7000 0.95       6260       7740      "
      ]
     },
     "metadata": {},
     "output_type": "display_data"
    },
    {
     "data": {
      "text/html": [
       "<table class=\"dataframe\">\n",
       "<caption>A data.frame: 6 × 7</caption>\n",
       "<thead>\n",
       "\t<tr><th scope=col>Teacher</th><th scope=col>Sex</th><th scope=col>n</th><th scope=col>Mean</th><th scope=col>Conf.level</th><th scope=col>Trad.lower</th><th scope=col>Trad.upper</th></tr>\n",
       "\t<tr><th scope=col>&lt;chr&gt;</th><th scope=col>&lt;chr&gt;</th><th scope=col>&lt;int&gt;</th><th scope=col>&lt;dbl&gt;</th><th scope=col>&lt;dbl&gt;</th><th scope=col>&lt;dbl&gt;</th><th scope=col>&lt;dbl&gt;</th></tr>\n",
       "</thead>\n",
       "<tbody>\n",
       "\t<tr><td>Donald</td><td>female</td><td>5</td><td>8200</td><td>0.95</td><td>6360</td><td>10000</td></tr>\n",
       "\t<tr><td>Donald</td><td>male  </td><td>4</td><td>7000</td><td>0.95</td><td>5700</td><td> 8300</td></tr>\n",
       "\t<tr><td>Jacob </td><td>female</td><td>6</td><td>8000</td><td>0.95</td><td>6520</td><td> 9480</td></tr>\n",
       "\t<tr><td>Jacob </td><td>male  </td><td>4</td><td>7000</td><td>0.95</td><td>4400</td><td> 9600</td></tr>\n",
       "\t<tr><td>Sadam </td><td>female</td><td>4</td><td>8500</td><td>0.95</td><td>7580</td><td> 9420</td></tr>\n",
       "\t<tr><td>Sadam </td><td>male  </td><td>3</td><td>7000</td><td>0.95</td><td>4520</td><td> 9480</td></tr>\n",
       "</tbody>\n",
       "</table>\n"
      ],
      "text/latex": [
       "A data.frame: 6 × 7\n",
       "\\begin{tabular}{lllllll}\n",
       " Teacher & Sex & n & Mean & Conf.level & Trad.lower & Trad.upper\\\\\n",
       " <chr> & <chr> & <int> & <dbl> & <dbl> & <dbl> & <dbl>\\\\\n",
       "\\hline\n",
       "\t Donald & female & 5 & 8200 & 0.95 & 6360 & 10000\\\\\n",
       "\t Donald & male   & 4 & 7000 & 0.95 & 5700 &  8300\\\\\n",
       "\t Jacob  & female & 6 & 8000 & 0.95 & 6520 &  9480\\\\\n",
       "\t Jacob  & male   & 4 & 7000 & 0.95 & 4400 &  9600\\\\\n",
       "\t Sadam  & female & 4 & 8500 & 0.95 & 7580 &  9420\\\\\n",
       "\t Sadam  & male   & 3 & 7000 & 0.95 & 4520 &  9480\\\\\n",
       "\\end{tabular}\n"
      ],
      "text/markdown": [
       "\n",
       "A data.frame: 6 × 7\n",
       "\n",
       "| Teacher &lt;chr&gt; | Sex &lt;chr&gt; | n &lt;int&gt; | Mean &lt;dbl&gt; | Conf.level &lt;dbl&gt; | Trad.lower &lt;dbl&gt; | Trad.upper &lt;dbl&gt; |\n",
       "|---|---|---|---|---|---|---|\n",
       "| Donald | female | 5 | 8200 | 0.95 | 6360 | 10000 |\n",
       "| Donald | male   | 4 | 7000 | 0.95 | 5700 |  8300 |\n",
       "| Jacob  | female | 6 | 8000 | 0.95 | 6520 |  9480 |\n",
       "| Jacob  | male   | 4 | 7000 | 0.95 | 4400 |  9600 |\n",
       "| Sadam  | female | 4 | 8500 | 0.95 | 7580 |  9420 |\n",
       "| Sadam  | male   | 3 | 7000 | 0.95 | 4520 |  9480 |\n",
       "\n"
      ],
      "text/plain": [
       "  Teacher Sex    n Mean Conf.level Trad.lower Trad.upper\n",
       "1 Donald  female 5 8200 0.95       6360       10000     \n",
       "2 Donald  male   4 7000 0.95       5700        8300     \n",
       "3 Jacob   female 6 8000 0.95       6520        9480     \n",
       "4 Jacob   male   4 7000 0.95       4400        9600     \n",
       "5 Sadam   female 4 8500 0.95       7580        9420     \n",
       "6 Sadam   male   3 7000 0.95       4520        9480     "
      ]
     },
     "metadata": {},
     "output_type": "display_data"
    }
   ],
   "source": [
    "library(rcompanion)\n",
    "# Ungrouped data are indicated with a 1 on the right side of the\n",
    "# formula, or the group = NULL argument.\n",
    "groupwiseMean(Steps ~ 1,data = data, conf = 0.95, digits = 3)\n",
    "\n",
    "# One-way data\n",
    "groupwiseMean(Steps ~ Sex, data = data, conf = 0.95,digits = 3)\n",
    "\n",
    "# Two-way data\n",
    "groupwiseMean(Steps ~ Teacher + Sex, data = data, conf = 0.95,digits = 3)"
   ]
  },
  {
   "cell_type": "code",
   "execution_count": 3,
   "id": "dde6a34f-a662-4303-8851-56417eba6fc9",
   "metadata": {},
   "outputs": [
    {
     "data": {
      "text/html": [
       "<table class=\"dataframe\">\n",
       "<caption>A data.frame: 2 × 7</caption>\n",
       "<thead>\n",
       "\t<tr><th scope=col>Sex</th><th scope=col>n</th><th scope=col>Mean</th><th scope=col>Boot.mean</th><th scope=col>Conf.level</th><th scope=col>Bca.lower</th><th scope=col>Bca.upper</th></tr>\n",
       "\t<tr><th scope=col>&lt;chr&gt;</th><th scope=col>&lt;int&gt;</th><th scope=col>&lt;dbl&gt;</th><th scope=col>&lt;dbl&gt;</th><th scope=col>&lt;dbl&gt;</th><th scope=col>&lt;dbl&gt;</th><th scope=col>&lt;dbl&gt;</th></tr>\n",
       "</thead>\n",
       "<tbody>\n",
       "\t<tr><td>female</td><td>15</td><td>8200</td><td>8200</td><td>0.95</td><td>7530</td><td>8670</td></tr>\n",
       "\t<tr><td>male  </td><td>11</td><td>7000</td><td>6990</td><td>0.95</td><td>6270</td><td>7550</td></tr>\n",
       "</tbody>\n",
       "</table>\n"
      ],
      "text/latex": [
       "A data.frame: 2 × 7\n",
       "\\begin{tabular}{lllllll}\n",
       " Sex & n & Mean & Boot.mean & Conf.level & Bca.lower & Bca.upper\\\\\n",
       " <chr> & <int> & <dbl> & <dbl> & <dbl> & <dbl> & <dbl>\\\\\n",
       "\\hline\n",
       "\t female & 15 & 8200 & 8200 & 0.95 & 7530 & 8670\\\\\n",
       "\t male   & 11 & 7000 & 6990 & 0.95 & 6270 & 7550\\\\\n",
       "\\end{tabular}\n"
      ],
      "text/markdown": [
       "\n",
       "A data.frame: 2 × 7\n",
       "\n",
       "| Sex &lt;chr&gt; | n &lt;int&gt; | Mean &lt;dbl&gt; | Boot.mean &lt;dbl&gt; | Conf.level &lt;dbl&gt; | Bca.lower &lt;dbl&gt; | Bca.upper &lt;dbl&gt; |\n",
       "|---|---|---|---|---|---|---|\n",
       "| female | 15 | 8200 | 8200 | 0.95 | 7530 | 8670 |\n",
       "| male   | 11 | 7000 | 6990 | 0.95 | 6270 | 7550 |\n",
       "\n"
      ],
      "text/plain": [
       "  Sex    n  Mean Boot.mean Conf.level Bca.lower Bca.upper\n",
       "1 female 15 8200 8200      0.95       7530      8670     \n",
       "2 male   11 7000 6990      0.95       6270      7550     "
      ]
     },
     "metadata": {},
     "output_type": "display_data"
    },
    {
     "data": {
      "text/html": [
       "<table class=\"dataframe\">\n",
       "<caption>A data.frame: 6 × 8</caption>\n",
       "<thead>\n",
       "\t<tr><th scope=col>Teacher</th><th scope=col>Sex</th><th scope=col>n</th><th scope=col>Mean</th><th scope=col>Boot.mean</th><th scope=col>Conf.level</th><th scope=col>Bca.lower</th><th scope=col>Bca.upper</th></tr>\n",
       "\t<tr><th scope=col>&lt;chr&gt;</th><th scope=col>&lt;chr&gt;</th><th scope=col>&lt;int&gt;</th><th scope=col>&lt;dbl&gt;</th><th scope=col>&lt;dbl&gt;</th><th scope=col>&lt;dbl&gt;</th><th scope=col>&lt;dbl&gt;</th><th scope=col>&lt;dbl&gt;</th></tr>\n",
       "</thead>\n",
       "<tbody>\n",
       "\t<tr><td>Donald</td><td>female</td><td>5</td><td>8200</td><td>8200</td><td>0.95</td><td>6800</td><td>9000</td></tr>\n",
       "\t<tr><td>Donald</td><td>male  </td><td>4</td><td>7000</td><td>7000</td><td>0.95</td><td>6000</td><td>7500</td></tr>\n",
       "\t<tr><td>Jacob </td><td>female</td><td>6</td><td>8000</td><td>7990</td><td>0.95</td><td>6830</td><td>8830</td></tr>\n",
       "\t<tr><td>Jacob </td><td>male  </td><td>4</td><td>7000</td><td>7000</td><td>0.95</td><td>5000</td><td>8000</td></tr>\n",
       "\t<tr><td>Sadam </td><td>female</td><td>4</td><td>8500</td><td>8500</td><td>0.95</td><td>8000</td><td>8750</td></tr>\n",
       "\t<tr><td>Sadam </td><td>male  </td><td>3</td><td>7000</td><td>7000</td><td>0.95</td><td>6000</td><td>7670</td></tr>\n",
       "</tbody>\n",
       "</table>\n"
      ],
      "text/latex": [
       "A data.frame: 6 × 8\n",
       "\\begin{tabular}{llllllll}\n",
       " Teacher & Sex & n & Mean & Boot.mean & Conf.level & Bca.lower & Bca.upper\\\\\n",
       " <chr> & <chr> & <int> & <dbl> & <dbl> & <dbl> & <dbl> & <dbl>\\\\\n",
       "\\hline\n",
       "\t Donald & female & 5 & 8200 & 8200 & 0.95 & 6800 & 9000\\\\\n",
       "\t Donald & male   & 4 & 7000 & 7000 & 0.95 & 6000 & 7500\\\\\n",
       "\t Jacob  & female & 6 & 8000 & 7990 & 0.95 & 6830 & 8830\\\\\n",
       "\t Jacob  & male   & 4 & 7000 & 7000 & 0.95 & 5000 & 8000\\\\\n",
       "\t Sadam  & female & 4 & 8500 & 8500 & 0.95 & 8000 & 8750\\\\\n",
       "\t Sadam  & male   & 3 & 7000 & 7000 & 0.95 & 6000 & 7670\\\\\n",
       "\\end{tabular}\n"
      ],
      "text/markdown": [
       "\n",
       "A data.frame: 6 × 8\n",
       "\n",
       "| Teacher &lt;chr&gt; | Sex &lt;chr&gt; | n &lt;int&gt; | Mean &lt;dbl&gt; | Boot.mean &lt;dbl&gt; | Conf.level &lt;dbl&gt; | Bca.lower &lt;dbl&gt; | Bca.upper &lt;dbl&gt; |\n",
       "|---|---|---|---|---|---|---|---|\n",
       "| Donald | female | 5 | 8200 | 8200 | 0.95 | 6800 | 9000 |\n",
       "| Donald | male   | 4 | 7000 | 7000 | 0.95 | 6000 | 7500 |\n",
       "| Jacob  | female | 6 | 8000 | 7990 | 0.95 | 6830 | 8830 |\n",
       "| Jacob  | male   | 4 | 7000 | 7000 | 0.95 | 5000 | 8000 |\n",
       "| Sadam  | female | 4 | 8500 | 8500 | 0.95 | 8000 | 8750 |\n",
       "| Sadam  | male   | 3 | 7000 | 7000 | 0.95 | 6000 | 7670 |\n",
       "\n"
      ],
      "text/plain": [
       "  Teacher Sex    n Mean Boot.mean Conf.level Bca.lower Bca.upper\n",
       "1 Donald  female 5 8200 8200      0.95       6800      9000     \n",
       "2 Donald  male   4 7000 7000      0.95       6000      7500     \n",
       "3 Jacob   female 6 8000 7990      0.95       6830      8830     \n",
       "4 Jacob   male   4 7000 7000      0.95       5000      8000     \n",
       "5 Sadam   female 4 8500 8500      0.95       8000      8750     \n",
       "6 Sadam   male   3 7000 7000      0.95       6000      7670     "
      ]
     },
     "metadata": {},
     "output_type": "display_data"
    }
   ],
   "source": [
    "# By bootstrapping\n",
    "groupwiseMean(Steps ~ Sex,\n",
    "              data = data,\n",
    "              conf = 0.95,\n",
    "              digits = 3,\n",
    "              R = 10000,\n",
    "              boot = TRUE,\n",
    "              traditional = FALSE,\n",
    "              normal = FALSE,\n",
    "              basic = FALSE,\n",
    "              percentile = FALSE,\n",
    "              bca = TRUE)\n",
    "\n",
    "groupwiseMean(Steps ~ Teacher + Sex,\n",
    "              data = data,\n",
    "              conf = 0.95,\n",
    "              digits = 3,\n",
    "              R = 10000,\n",
    "              boot = TRUE,\n",
    "              traditional = FALSE,\n",
    "              normal = FALSE,\n",
    "              basic = FALSE,\n",
    "              percentile = FALSE,\n",
    "              bca = TRUE)"
   ]
  },
  {
   "cell_type": "markdown",
   "id": "12bd2eb7-4b46-4114-8ec4-830e137445b7",
   "metadata": {},
   "source": [
    "These upper and lower limits may then be used easily within a figure."
   ]
  },
  {
   "cell_type": "code",
   "execution_count": 4,
   "id": "91eee0bb-c332-4ceb-9105-ada48ea7d922",
   "metadata": {},
   "outputs": [
    {
     "data": {
      "image/png": "[encoded data removed]",
      "text/plain": [
       "plot without title"
      ]
     },
     "metadata": {
      "image/png": {
       "height": 420,
       "width": 420
      }
     },
     "output_type": "display_data"
    }
   ],
   "source": [
    "# Load libraries\n",
    "suppressMessages(library(tidyverse))\n",
    "\n",
    "# Create dummy data\n",
    "r_dat <- data.frame(value = rnorm(n = 20, mean = 10, sd = 2),\n",
    "                    sample = rep(\"A\", 20))\n",
    "\n",
    "# Create basic plot\n",
    "ggplot(data = r_dat, aes(x = sample, y = value)) +\n",
    "  geom_errorbar(aes(ymin = mean(value) - sd(value), ymax = mean(value) + sd(value))) +\n",
    "  geom_jitter(colour = \"firebrick1\")"
   ]
  },
  {
   "cell_type": "markdown",
   "id": "c8b6a830-240e-4b0c-bac1-b09b5d169fdd",
   "metadata": {},
   "source": [
    "**Figure:** A very basic figure showing confidence intervals (CI) for a random normal distribution."
   ]
  },
  {
   "cell_type": "markdown",
   "id": "02c90d07-aafd-4217-b749-dce7058eca23",
   "metadata": {},
   "source": [
    "<div class=\"alert alert-block alert-success\">\n",
    "    <b>Task:</b> How would we apply this to more than one sample set? Do so now.\n",
    "</div>\n",
    "\n",
    "## CI of compared means\n",
    "\n",
    "AS stated above, we may also use CI to investigate the difference in means between two or more sample sets of data. We have already seen this in Chapter 7, ANOVA, but we shall look at it again here with our now expanded understanding of the concept."
   ]
  },
  {
   "cell_type": "code",
   "execution_count": 5,
   "id": "c8f258a9-36f1-41a2-882a-3cc5c1114726",
   "metadata": {},
   "outputs": [
    {
     "data": {
      "image/png": "[encoded data removed]",
      "text/plain": [
       "Plot with title “95% family-wise confidence level\n",
       "”"
      ]
     },
     "metadata": {
      "image/png": {
       "height": 420,
       "width": 420
      }
     },
     "output_type": "display_data"
    }
   ],
   "source": [
    "# First calculate ANOVA of seapl length of different iris species\n",
    "iris_aov <- aov(Sepal.Length ~ Species, data = iris)\n",
    "\n",
    "# Then run a Tukey test\n",
    "iris_Tukey <- TukeyHSD(iris_aov)\n",
    "\n",
    "# Lastly use base R to quickly plot the results\n",
    "plot(iris_Tukey)"
   ]
  },
  {
   "cell_type": "markdown",
   "id": "722d75bb-475a-4587-a56a-b366708c5600",
   "metadata": {},
   "source": [
    "**Figure:** Results of a post-hoc Tukey test showing the confidence interval for the effect size between each group."
   ]
  },
  {
   "cell_type": "markdown",
   "id": "3dbf330a-75cd-4607-8028-88fc1fa7171c",
   "metadata": {},
   "source": [
    "<div class=\"alert alert-block alert-success\">\n",
    "<b>Task:</b> Judging from the figure above, which species have significantly different sepal lengths?\n",
    "</div>\n",
    "\n",
    "## Harrell plots\n",
    "\n",
    "The most complete use of CI that we have seen to date is the Harrell plot. This type of figure shows the distributions of each sample set in the data as boxplots in a lower panel. In the panel above those boxplots it then lays out the results of a post-hoc Tukey test. This very cleanly shows both the raw data as well as high level statistical results of the comparisons of those data. Thanks to the magic of the Internet we may create these figures with a single line of code. This does however require that we load several new libraries."
   ]
  },
  {
   "cell_type": "code",
   "execution_count": 13,
   "id": "f0fd8f69-d1cb-4ec9-ab9f-cdd19ada2fa4",
   "metadata": {},
   "outputs": [
    {
     "data": {
      "text/plain": [
       "$gg\n"
      ]
     },
     "metadata": {},
     "output_type": "display_data"
    },
    {
     "data": {
      "image/png": "[encoded data removed]",
      "text/plain": [
       "plot without title"
      ]
     },
     "metadata": {
      "image/png": {
       "height": 420,
       "width": 420
      }
     },
     "output_type": "display_data"
    }
   ],
   "source": [
    "library(emmeans)\n",
    "library(data.table)\n",
    "library(broom)\n",
    "suppressMessages(library(Hmisc))\n",
    "library(car)\n",
    "library(cowplot)\n",
    "source(\"../data/fit_model.R\")\n",
    "source(\"../data/make_formula_str.R\")\n",
    "source(\"../data/HarrellPlot.R\")\n",
    "\n",
    "# Load data\n",
    "ecklonia <- read.csv(\"../data/ecklonia.csv\")\n",
    "\n",
    "# Create Harrell Plot\n",
    "HarrellPlot(x = \"site\", y = \"stipe_length\", data = ecklonia, short = T)[1]"
   ]
  },
  {
   "cell_type": "markdown",
   "id": "f42656b8-89c4-4404-ae3b-b08fd139ff97",
   "metadata": {},
   "source": [
    "**Figure:** Harrell plot showing the distributions of stipe lengths (cm) of the kelp _Ecklonia maxima_ at two different sites in the bottom panel. The top panel shows the confidence interval of the effect of the difference between these two sample sets based on a post-hoc Tukey test."
   ]
  },
  {
   "cell_type": "markdown",
   "id": "00005257-6dd7-4fe6-bf79-627884378d8c",
   "metadata": {},
   "source": [
    "<div class=\"alert alert-block alert-success\">\n",
    "<b>Task:</b> There are a lot of settings for `HarrePlot()`, what do some of them do?\n",
    "</div>\n",
    "\n",
    "The above figure shows that the CI of the difference between stipe lengths (cm) at the two sites does not cross 0. This means that there is a significant difference between these two sample sets. But let's run a statistical test anyway to check the results."
   ]
  },
  {
   "cell_type": "code",
   "execution_count": 14,
   "id": "fb0fdd8c-b126-451b-bd29-760a11041734",
   "metadata": {},
   "outputs": [
    {
     "data": {
      "text/html": [
       "<table class=\"dataframe\">\n",
       "<caption>A tibble: 2 × 3</caption>\n",
       "<thead>\n",
       "\t<tr><th scope=col>site</th><th scope=col>stipe_length_var</th><th scope=col>stipe_length_Norm</th></tr>\n",
       "\t<tr><th scope=col>&lt;chr&gt;</th><th scope=col>&lt;dbl&gt;</th><th scope=col>&lt;dbl&gt;</th></tr>\n",
       "</thead>\n",
       "<tbody>\n",
       "\t<tr><td>Batsata Rock  </td><td>14682.641</td><td>0.01278574</td></tr>\n",
       "\t<tr><td>Boulders Beach</td><td> 4970.436</td><td>0.05891928</td></tr>\n",
       "</tbody>\n",
       "</table>\n"
      ],
      "text/latex": [
       "A tibble: 2 × 3\n",
       "\\begin{tabular}{lll}\n",
       " site & stipe\\_length\\_var & stipe\\_length\\_Norm\\\\\n",
       " <chr> & <dbl> & <dbl>\\\\\n",
       "\\hline\n",
       "\t Batsata Rock   & 14682.641 & 0.01278574\\\\\n",
       "\t Boulders Beach &  4970.436 & 0.05891928\\\\\n",
       "\\end{tabular}\n"
      ],
      "text/markdown": [
       "\n",
       "A tibble: 2 × 3\n",
       "\n",
       "| site &lt;chr&gt; | stipe_length_var &lt;dbl&gt; | stipe_length_Norm &lt;dbl&gt; |\n",
       "|---|---|---|\n",
       "| Batsata Rock   | 14682.641 | 0.01278574 |\n",
       "| Boulders Beach |  4970.436 | 0.05891928 |\n",
       "\n"
      ],
      "text/plain": [
       "  site           stipe_length_var stipe_length_Norm\n",
       "1 Batsata Rock   14682.641        0.01278574       \n",
       "2 Boulders Beach  4970.436        0.05891928       "
      ]
     },
     "metadata": {},
     "output_type": "display_data"
    },
    {
     "name": "stderr",
     "output_type": "stream",
     "text": [
      "Warning message in wilcox.test.default(x = c(720L, 600L, 720L, 395L, 669L, 684L, :\n",
      "“cannot compute exact p-value with ties”\n"
     ]
    },
    {
     "data": {
      "text/plain": [
       "\n",
       "\tWilcoxon rank sum test with continuity correction\n",
       "\n",
       "data:  stipe_length by site\n",
       "W = 146, p-value = 0.001752\n",
       "alternative hypothesis: true location shift is not equal to 0\n"
      ]
     },
     "metadata": {},
     "output_type": "display_data"
    }
   ],
   "source": [
    "# Testing assumptions\n",
    "ecklonia %>% \n",
    "  group_by(site) %>% \n",
    "  summarise(stipe_length_var = var(stipe_length),\n",
    "            stipe_length_Norm = as.numeric(shapiro.test(stipe_length)[2]))\n",
    "# We fail both assumptions...\n",
    "\n",
    "# non-parametric test\n",
    "wilcox.test(stipe_length ~ site, data = ecklonia)"
   ]
  },
  {
   "cell_type": "markdown",
   "id": "f66c77a3-e2e6-47dc-8f74-36197e0cb405",
   "metadata": {},
   "source": [
    "The results of our Wilcox rank sum test, unsurprisingly, support the output of `HarrelPlot()`.\n",
    "\n",
    "## Exercises\n",
    "\n",
    "<div class=\"alert alert-block alert-success\">\n",
    "<b>Exercise 1</b> Load a new dataset and create a Harrell plot from it based on values of your choosing. What does the Harrell plot show?\n",
    "</div>\n",
    "\n",
    "<div class=\"alert alert-block alert-success\">\n",
    "<b>Exercise 2</b>\n",
    "</div>"
   ]
  }
 ],
 "metadata": {
  "kernelspec": {
   "display_name": "R",
   "language": "R",
   "name": "ir"
  },
  "language_info": {
   "codemirror_mode": "r",
   "file_extension": ".r",
   "mimetype": "text/x-r-source",
   "name": "R",
   "pygments_lexer": "r",
   "version": "4.1.3"
  }
 },
 "nbformat": 4,
 "nbformat_minor": 5
}
